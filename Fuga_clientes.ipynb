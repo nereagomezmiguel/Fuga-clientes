{
 "cells": [
  {
   "cell_type": "markdown",
   "metadata": {},
   "source": [
    "## 1. Carga de datos y creación del tablón analítico"
   ]
  },
  {
   "cell_type": "markdown",
   "metadata": {},
   "source": [
    "### Librerias"
   ]
  },
  {
   "cell_type": "markdown",
   "metadata": {},
   "source": [
    "En primer lugar, vamos a cargar todas las librerías necesarias para la realización de este trabajo:"
   ]
  },
  {
   "cell_type": "code",
   "execution_count": 1,
   "metadata": {},
   "outputs": [],
   "source": [
    "import pandas as pd\n",
    "import numpy as np\n",
    "import seaborn as sns\n",
    "import matplotlib.pyplot as plt\n",
    "from datetime import datetime\n",
    "from datetime import timedelta\n",
    "from sklearn.preprocessing import LabelEncoder, OneHotEncoder\n",
    "from xgboost import XGBClassifier\n",
    "from sklearn.model_selection import train_test_split\n",
    "from sklearn.linear_model import LinearRegression\n",
    "from sklearn.ensemble import RandomForestClassifier\n",
    "from pandas.plotting import scatter_matrix\n",
    "from sklearn.feature_selection import VarianceThreshold\n",
    "from sklearn.metrics import accuracy_score, auc, confusion_matrix, f1_score, precision_score, recall_score, roc_curve\n",
    "from sklearn.feature_selection import SelectKBest\n",
    "from sklearn.feature_selection import f_regression \n",
    "from sklearn.feature_selection import chi2 \n",
    "from sklearn.model_selection import GridSearchCV\n",
    "from sklearn.metrics import classification_report\n",
    "from sklearn.model_selection import cross_val_score"
   ]
  },
  {
   "cell_type": "markdown",
   "metadata": {},
   "source": [
    "### Lectura de datos"
   ]
  },
  {
   "cell_type": "markdown",
   "metadata": {},
   "source": [
    "A continuación, leemos las tablas que contienen la información necesaria para el estudio."
   ]
  },
  {
   "cell_type": "code",
   "execution_count": 2,
   "metadata": {},
   "outputs": [],
   "source": [
    "clientes_d = pd.read_csv('clientes_diciembre.csv', sep='|')\n",
    "consumos_d = pd.read_csv('consumos_diciembre.csv', sep ='|')\n",
    "financiacion_d = pd.read_csv('financiacion_diciembre.csv', sep='|')\n",
    "productos_d = pd.read_csv('productos_diciembre.csv', sep='|')"
   ]
  },
  {
   "cell_type": "code",
   "execution_count": 3,
   "metadata": {},
   "outputs": [],
   "source": [
    "clientes_e= pd.read_csv('clientes_enero.csv', sep='|')\n",
    "consumos_e = pd.read_csv('consumos_enero.csv', sep ='|')\n",
    "financiacion_e = pd.read_csv('financiacion_enero.csv', sep='|')\n",
    "productos_e = pd.read_csv('productos_enero.csv', sep='|')"
   ]
  },
  {
   "cell_type": "markdown",
   "metadata": {},
   "source": [
    "### Union de tablas"
   ]
  },
  {
   "cell_type": "markdown",
   "metadata": {},
   "source": [
    "Vamos a comprobar las dimensiones de las tablas para unirlas."
   ]
  },
  {
   "cell_type": "code",
   "execution_count": 4,
   "metadata": {},
   "outputs": [
    {
     "name": "stdout",
     "output_type": "stream",
     "text": [
      "Tabla clientes_d: (95467, 8)\n",
      "Tabla consumos_d: (95467, 6)\n",
      "Tabla financiacion_d: (24198, 4)\n",
      "Tabla productos_d: (95467, 4)\n"
     ]
    }
   ],
   "source": [
    "print('Tabla clientes_d:', clientes_d.shape)\n",
    "print('Tabla consumos_d:', consumos_d.shape)\n",
    "print('Tabla financiacion_d:', financiacion_d.shape)\n",
    "print('Tabla productos_d:', productos_d.shape)"
   ]
  },
  {
   "cell_type": "code",
   "execution_count": 5,
   "metadata": {},
   "outputs": [
    {
     "name": "stdout",
     "output_type": "stream",
     "text": [
      "Tabla clientes_e: (92711, 8)\n",
      "Tabla consumos_e: (92711, 6)\n",
      "Tabla financiacion_e: (25332, 4)\n",
      "Tabla productos_e: (92711, 4)\n"
     ]
    }
   ],
   "source": [
    "print('Tabla clientes_e:', clientes_e.shape)\n",
    "print('Tabla consumos_e:', consumos_e.shape)\n",
    "print('Tabla financiacion_e:', financiacion_e.shape)\n",
    "print('Tabla productos_e:', productos_e.shape)"
   ]
  },
  {
   "cell_type": "markdown",
   "metadata": {},
   "source": [
    "Todas las tablas tienen el mismo número de filas excepto financiación, que la uniremos al resto a través de un left join. Esto se debe porque esta tabla solo incluye a los clientes que tienen una financiación o un descuento y no recoge a los clientes que no tienen. Unimos todas las tablas a través del id ya que es un valor unico."
   ]
  },
  {
   "cell_type": "code",
   "execution_count": 6,
   "metadata": {},
   "outputs": [
    {
     "data": {
      "text/plain": [
       "95467"
      ]
     },
     "execution_count": 6,
     "metadata": {},
     "output_type": "execute_result"
    }
   ],
   "source": [
    "sum(clientes_d['id']==consumos_d['id'])"
   ]
  },
  {
   "cell_type": "code",
   "execution_count": 7,
   "metadata": {},
   "outputs": [
    {
     "data": {
      "text/plain": [
       "92711"
      ]
     },
     "execution_count": 7,
     "metadata": {},
     "output_type": "execute_result"
    }
   ],
   "source": [
    "sum(clientes_e['id']==consumos_e['id'])"
   ]
  },
  {
   "cell_type": "markdown",
   "metadata": {},
   "source": [
    "**Unimos las tablas de diciembre:** "
   ]
  },
  {
   "cell_type": "code",
   "execution_count": 8,
   "metadata": {},
   "outputs": [
    {
     "data": {
      "text/plain": [
       "(95467, 19)"
      ]
     },
     "execution_count": 8,
     "metadata": {},
     "output_type": "execute_result"
    }
   ],
   "source": [
    "df1 = pd.merge(clientes_d, consumos_d, on='id') \n",
    "df2 = pd.merge(df1, financiacion_d, on='id', how='left')\n",
    "df_dic = pd.merge(df2, productos_d, on='id')\n",
    "df_dic.shape"
   ]
  },
  {
   "cell_type": "code",
   "execution_count": 9,
   "metadata": {},
   "outputs": [
    {
     "data": {
      "text/html": [
       "<div>\n",
       "<style scoped>\n",
       "    .dataframe tbody tr th:only-of-type {\n",
       "        vertical-align: middle;\n",
       "    }\n",
       "\n",
       "    .dataframe tbody tr th {\n",
       "        vertical-align: top;\n",
       "    }\n",
       "\n",
       "    .dataframe thead th {\n",
       "        text-align: right;\n",
       "    }\n",
       "</style>\n",
       "<table border=\"1\" class=\"dataframe\">\n",
       "  <thead>\n",
       "    <tr style=\"text-align: right;\">\n",
       "      <th></th>\n",
       "      <th>id</th>\n",
       "      <th>edad</th>\n",
       "      <th>facturacion</th>\n",
       "      <th>antiguedad</th>\n",
       "      <th>provincia</th>\n",
       "      <th>num_lineas</th>\n",
       "      <th>num_dt</th>\n",
       "      <th>incidencia</th>\n",
       "      <th>num_llamad_ent</th>\n",
       "      <th>num_llamad_sal</th>\n",
       "      <th>mb_datos</th>\n",
       "      <th>seg_llamad_ent</th>\n",
       "      <th>seg_llamad_sal</th>\n",
       "      <th>financiacion</th>\n",
       "      <th>imp_financ</th>\n",
       "      <th>descuentos</th>\n",
       "      <th>conexion</th>\n",
       "      <th>vel_conexion</th>\n",
       "      <th>TV</th>\n",
       "    </tr>\n",
       "  </thead>\n",
       "  <tbody>\n",
       "    <tr>\n",
       "      <th>0</th>\n",
       "      <td>1</td>\n",
       "      <td>63</td>\n",
       "      <td>216.028109</td>\n",
       "      <td>2018-11-23 08:48:00</td>\n",
       "      <td>La Rioja</td>\n",
       "      <td>5</td>\n",
       "      <td>NaN</td>\n",
       "      <td>NaN</td>\n",
       "      <td>110</td>\n",
       "      <td>79</td>\n",
       "      <td>10897</td>\n",
       "      <td>12806</td>\n",
       "      <td>13751</td>\n",
       "      <td>NaN</td>\n",
       "      <td>NaN</td>\n",
       "      <td>NaN</td>\n",
       "      <td>FIBRA</td>\n",
       "      <td>50MB</td>\n",
       "      <td>tv-futbol</td>\n",
       "    </tr>\n",
       "    <tr>\n",
       "      <th>1</th>\n",
       "      <td>2</td>\n",
       "      <td>84</td>\n",
       "      <td>255.830842</td>\n",
       "      <td>2017-08-22 03:19:00</td>\n",
       "      <td>Vizcaya</td>\n",
       "      <td>3</td>\n",
       "      <td>NaN</td>\n",
       "      <td>NaN</td>\n",
       "      <td>189</td>\n",
       "      <td>89</td>\n",
       "      <td>18657</td>\n",
       "      <td>6499</td>\n",
       "      <td>10862</td>\n",
       "      <td>NaN</td>\n",
       "      <td>NaN</td>\n",
       "      <td>SI</td>\n",
       "      <td>FIBRA</td>\n",
       "      <td>600MB</td>\n",
       "      <td>tv-futbol</td>\n",
       "    </tr>\n",
       "    <tr>\n",
       "      <th>2</th>\n",
       "      <td>3</td>\n",
       "      <td>66</td>\n",
       "      <td>135.768153</td>\n",
       "      <td>2001-12-27 13:50:00</td>\n",
       "      <td>Albacete</td>\n",
       "      <td>4</td>\n",
       "      <td>NaN</td>\n",
       "      <td>NaN</td>\n",
       "      <td>129</td>\n",
       "      <td>30</td>\n",
       "      <td>15511</td>\n",
       "      <td>17013</td>\n",
       "      <td>16743</td>\n",
       "      <td>NaN</td>\n",
       "      <td>NaN</td>\n",
       "      <td>SI</td>\n",
       "      <td>ADSL</td>\n",
       "      <td>35MB</td>\n",
       "      <td>tv-futbol</td>\n",
       "    </tr>\n",
       "    <tr>\n",
       "      <th>3</th>\n",
       "      <td>4</td>\n",
       "      <td>69</td>\n",
       "      <td>255.658527</td>\n",
       "      <td>2015-08-08 10:53:00</td>\n",
       "      <td>Lugo</td>\n",
       "      <td>4</td>\n",
       "      <td>NaN</td>\n",
       "      <td>NaN</td>\n",
       "      <td>51</td>\n",
       "      <td>52</td>\n",
       "      <td>12670</td>\n",
       "      <td>3393</td>\n",
       "      <td>6771</td>\n",
       "      <td>NaN</td>\n",
       "      <td>NaN</td>\n",
       "      <td>NaN</td>\n",
       "      <td>FIBRA</td>\n",
       "      <td>200MB</td>\n",
       "      <td>tv-familiar</td>\n",
       "    </tr>\n",
       "    <tr>\n",
       "      <th>4</th>\n",
       "      <td>5</td>\n",
       "      <td>30</td>\n",
       "      <td>22.302845</td>\n",
       "      <td>1997-08-29 02:19:00</td>\n",
       "      <td>Tarragona</td>\n",
       "      <td>2</td>\n",
       "      <td>2.0</td>\n",
       "      <td>NaN</td>\n",
       "      <td>183</td>\n",
       "      <td>3</td>\n",
       "      <td>23756</td>\n",
       "      <td>18436</td>\n",
       "      <td>4485</td>\n",
       "      <td>NaN</td>\n",
       "      <td>NaN</td>\n",
       "      <td>NaN</td>\n",
       "      <td>ADSL</td>\n",
       "      <td>10MB</td>\n",
       "      <td>tv-futbol</td>\n",
       "    </tr>\n",
       "  </tbody>\n",
       "</table>\n",
       "</div>"
      ],
      "text/plain": [
       "   id  edad  facturacion           antiguedad  provincia  num_lineas  num_dt  \\\n",
       "0   1    63   216.028109  2018-11-23 08:48:00   La Rioja           5     NaN   \n",
       "1   2    84   255.830842  2017-08-22 03:19:00    Vizcaya           3     NaN   \n",
       "2   3    66   135.768153  2001-12-27 13:50:00   Albacete           4     NaN   \n",
       "3   4    69   255.658527  2015-08-08 10:53:00       Lugo           4     NaN   \n",
       "4   5    30    22.302845  1997-08-29 02:19:00  Tarragona           2     2.0   \n",
       "\n",
       "  incidencia  num_llamad_ent  num_llamad_sal  mb_datos  seg_llamad_ent  \\\n",
       "0        NaN             110              79     10897           12806   \n",
       "1        NaN             189              89     18657            6499   \n",
       "2        NaN             129              30     15511           17013   \n",
       "3        NaN              51              52     12670            3393   \n",
       "4        NaN             183               3     23756           18436   \n",
       "\n",
       "   seg_llamad_sal financiacion  imp_financ descuentos conexion vel_conexion  \\\n",
       "0           13751          NaN         NaN        NaN    FIBRA         50MB   \n",
       "1           10862          NaN         NaN         SI    FIBRA        600MB   \n",
       "2           16743          NaN         NaN         SI     ADSL         35MB   \n",
       "3            6771          NaN         NaN        NaN    FIBRA        200MB   \n",
       "4            4485          NaN         NaN        NaN     ADSL         10MB   \n",
       "\n",
       "            TV  \n",
       "0    tv-futbol  \n",
       "1    tv-futbol  \n",
       "2    tv-futbol  \n",
       "3  tv-familiar  \n",
       "4    tv-futbol  "
      ]
     },
     "execution_count": 9,
     "metadata": {},
     "output_type": "execute_result"
    }
   ],
   "source": [
    "df_dic.head()"
   ]
  },
  {
   "cell_type": "markdown",
   "metadata": {},
   "source": [
    "**Unimos las tablas de enero**"
   ]
  },
  {
   "cell_type": "code",
   "execution_count": 10,
   "metadata": {},
   "outputs": [
    {
     "data": {
      "text/plain": [
       "(92711, 19)"
      ]
     },
     "execution_count": 10,
     "metadata": {},
     "output_type": "execute_result"
    }
   ],
   "source": [
    "df12 = pd.merge(clientes_e, consumos_e, on='id') \n",
    "df22 = pd.merge(df12, financiacion_e, on='id', how='left')\n",
    "df_ene = pd.merge(df22, productos_e, on='id')\n",
    "df_ene.shape"
   ]
  },
  {
   "cell_type": "code",
   "execution_count": 11,
   "metadata": {},
   "outputs": [
    {
     "data": {
      "text/html": [
       "<div>\n",
       "<style scoped>\n",
       "    .dataframe tbody tr th:only-of-type {\n",
       "        vertical-align: middle;\n",
       "    }\n",
       "\n",
       "    .dataframe tbody tr th {\n",
       "        vertical-align: top;\n",
       "    }\n",
       "\n",
       "    .dataframe thead th {\n",
       "        text-align: right;\n",
       "    }\n",
       "</style>\n",
       "<table border=\"1\" class=\"dataframe\">\n",
       "  <thead>\n",
       "    <tr style=\"text-align: right;\">\n",
       "      <th></th>\n",
       "      <th>id</th>\n",
       "      <th>edad</th>\n",
       "      <th>facturacion</th>\n",
       "      <th>antiguedad</th>\n",
       "      <th>provincia</th>\n",
       "      <th>num_lineas</th>\n",
       "      <th>num_dt</th>\n",
       "      <th>incidencia</th>\n",
       "      <th>num_llamad_ent</th>\n",
       "      <th>num_llamad_sal</th>\n",
       "      <th>mb_datos</th>\n",
       "      <th>seg_llamad_ent</th>\n",
       "      <th>seg_llamad_sal</th>\n",
       "      <th>financiacion</th>\n",
       "      <th>imp_financ</th>\n",
       "      <th>descuentos</th>\n",
       "      <th>conexion</th>\n",
       "      <th>vel_conexion</th>\n",
       "      <th>TV</th>\n",
       "    </tr>\n",
       "  </thead>\n",
       "  <tbody>\n",
       "    <tr>\n",
       "      <th>0</th>\n",
       "      <td>1</td>\n",
       "      <td>63</td>\n",
       "      <td>216.028109</td>\n",
       "      <td>11/23/2018 08:48 AM</td>\n",
       "      <td>La Rioja</td>\n",
       "      <td>5</td>\n",
       "      <td>NaN</td>\n",
       "      <td>NaN</td>\n",
       "      <td>95</td>\n",
       "      <td>19</td>\n",
       "      <td>6525</td>\n",
       "      <td>7634</td>\n",
       "      <td>18520</td>\n",
       "      <td>NaN</td>\n",
       "      <td>NaN</td>\n",
       "      <td>NaN</td>\n",
       "      <td>FIBRA</td>\n",
       "      <td>50MB</td>\n",
       "      <td>tv-futbol</td>\n",
       "    </tr>\n",
       "    <tr>\n",
       "      <th>1</th>\n",
       "      <td>2</td>\n",
       "      <td>84</td>\n",
       "      <td>255.830842</td>\n",
       "      <td>08/22/2017 03:19 AM</td>\n",
       "      <td>Vizcaya</td>\n",
       "      <td>3</td>\n",
       "      <td>NaN</td>\n",
       "      <td>NaN</td>\n",
       "      <td>44</td>\n",
       "      <td>36</td>\n",
       "      <td>14471</td>\n",
       "      <td>14541</td>\n",
       "      <td>8016</td>\n",
       "      <td>NaN</td>\n",
       "      <td>NaN</td>\n",
       "      <td>SI</td>\n",
       "      <td>FIBRA</td>\n",
       "      <td>600MB</td>\n",
       "      <td>tv-futbol</td>\n",
       "    </tr>\n",
       "    <tr>\n",
       "      <th>2</th>\n",
       "      <td>3</td>\n",
       "      <td>66</td>\n",
       "      <td>135.768153</td>\n",
       "      <td>12/27/2001 01:50 PM</td>\n",
       "      <td>Albacete</td>\n",
       "      <td>4</td>\n",
       "      <td>NaN</td>\n",
       "      <td>NaN</td>\n",
       "      <td>94</td>\n",
       "      <td>27</td>\n",
       "      <td>1428</td>\n",
       "      <td>5248</td>\n",
       "      <td>7106</td>\n",
       "      <td>NaN</td>\n",
       "      <td>NaN</td>\n",
       "      <td>SI</td>\n",
       "      <td>ADSL</td>\n",
       "      <td>35MB</td>\n",
       "      <td>tv-futbol</td>\n",
       "    </tr>\n",
       "    <tr>\n",
       "      <th>3</th>\n",
       "      <td>4</td>\n",
       "      <td>69</td>\n",
       "      <td>255.658527</td>\n",
       "      <td>08/08/2015 10:53 AM</td>\n",
       "      <td>Lugo</td>\n",
       "      <td>4</td>\n",
       "      <td>NaN</td>\n",
       "      <td>NaN</td>\n",
       "      <td>186</td>\n",
       "      <td>20</td>\n",
       "      <td>20083</td>\n",
       "      <td>7372</td>\n",
       "      <td>5052</td>\n",
       "      <td>NaN</td>\n",
       "      <td>NaN</td>\n",
       "      <td>NaN</td>\n",
       "      <td>FIBRA</td>\n",
       "      <td>200MB</td>\n",
       "      <td>tv-familiar</td>\n",
       "    </tr>\n",
       "    <tr>\n",
       "      <th>4</th>\n",
       "      <td>6</td>\n",
       "      <td>51</td>\n",
       "      <td>99.348645</td>\n",
       "      <td>11/04/1997 11:43 AM</td>\n",
       "      <td>Huelva</td>\n",
       "      <td>4</td>\n",
       "      <td>NaN</td>\n",
       "      <td>NaN</td>\n",
       "      <td>37</td>\n",
       "      <td>32</td>\n",
       "      <td>19078</td>\n",
       "      <td>5009</td>\n",
       "      <td>8686</td>\n",
       "      <td>NaN</td>\n",
       "      <td>NaN</td>\n",
       "      <td>NaN</td>\n",
       "      <td>FIBRA</td>\n",
       "      <td>200MB</td>\n",
       "      <td>tv-futbol</td>\n",
       "    </tr>\n",
       "  </tbody>\n",
       "</table>\n",
       "</div>"
      ],
      "text/plain": [
       "   id  edad  facturacion           antiguedad provincia  num_lineas  num_dt  \\\n",
       "0   1    63   216.028109  11/23/2018 08:48 AM  La Rioja           5     NaN   \n",
       "1   2    84   255.830842  08/22/2017 03:19 AM   Vizcaya           3     NaN   \n",
       "2   3    66   135.768153  12/27/2001 01:50 PM  Albacete           4     NaN   \n",
       "3   4    69   255.658527  08/08/2015 10:53 AM      Lugo           4     NaN   \n",
       "4   6    51    99.348645  11/04/1997 11:43 AM    Huelva           4     NaN   \n",
       "\n",
       "  incidencia  num_llamad_ent  num_llamad_sal  mb_datos  seg_llamad_ent  \\\n",
       "0        NaN              95              19      6525            7634   \n",
       "1        NaN              44              36     14471           14541   \n",
       "2        NaN              94              27      1428            5248   \n",
       "3        NaN             186              20     20083            7372   \n",
       "4        NaN              37              32     19078            5009   \n",
       "\n",
       "   seg_llamad_sal financiacion  imp_financ descuentos conexion vel_conexion  \\\n",
       "0           18520          NaN         NaN        NaN    FIBRA         50MB   \n",
       "1            8016          NaN         NaN         SI    FIBRA        600MB   \n",
       "2            7106          NaN         NaN         SI     ADSL         35MB   \n",
       "3            5052          NaN         NaN        NaN    FIBRA        200MB   \n",
       "4            8686          NaN         NaN        NaN    FIBRA        200MB   \n",
       "\n",
       "            TV  \n",
       "0    tv-futbol  \n",
       "1    tv-futbol  \n",
       "2    tv-futbol  \n",
       "3  tv-familiar  \n",
       "4    tv-futbol  "
      ]
     },
     "execution_count": 11,
     "metadata": {},
     "output_type": "execute_result"
    }
   ],
   "source": [
    "df_ene.head()"
   ]
  },
  {
   "cell_type": "markdown",
   "metadata": {},
   "source": [
    "### Creamos la variable target"
   ]
  },
  {
   "cell_type": "markdown",
   "metadata": {},
   "source": [
    "Creamos la variable target buscando los clientes que teniamos en diciembre en la tabla de enero, si están, aparecerá TRUE y si no FALSE, por lo que el 0 en la variable que vamos a crear significa que el cliente continua en la compañía y el uno significa que se ha ido de la compañía."
   ]
  },
  {
   "cell_type": "code",
   "execution_count": 12,
   "metadata": {},
   "outputs": [
    {
     "data": {
      "text/plain": [
       "0         True\n",
       "1         True\n",
       "2         True\n",
       "3         True\n",
       "4        False\n",
       "         ...  \n",
       "95462     True\n",
       "95463     True\n",
       "95464     True\n",
       "95465     True\n",
       "95466     True\n",
       "Name: id, Length: 95467, dtype: bool"
      ]
     },
     "execution_count": 12,
     "metadata": {},
     "output_type": "execute_result"
    }
   ],
   "source": [
    "target = clientes_d['id'].isin(clientes_e['id'])\n",
    "target"
   ]
  },
  {
   "cell_type": "code",
   "execution_count": 13,
   "metadata": {},
   "outputs": [
    {
     "data": {
      "text/plain": [
       "0    0\n",
       "1    0\n",
       "2    0\n",
       "3    0\n",
       "4    1\n",
       "Name: id, dtype: int64"
      ]
     },
     "execution_count": 13,
     "metadata": {},
     "output_type": "execute_result"
    }
   ],
   "source": [
    "churn=target.apply(lambda x: 0 if x==True else 1)\n",
    "churn.head()"
   ]
  },
  {
   "cell_type": "code",
   "execution_count": 14,
   "metadata": {},
   "outputs": [
    {
     "data": {
      "text/html": [
       "<div>\n",
       "<style scoped>\n",
       "    .dataframe tbody tr th:only-of-type {\n",
       "        vertical-align: middle;\n",
       "    }\n",
       "\n",
       "    .dataframe tbody tr th {\n",
       "        vertical-align: top;\n",
       "    }\n",
       "\n",
       "    .dataframe thead th {\n",
       "        text-align: right;\n",
       "    }\n",
       "</style>\n",
       "<table border=\"1\" class=\"dataframe\">\n",
       "  <thead>\n",
       "    <tr style=\"text-align: right;\">\n",
       "      <th></th>\n",
       "      <th>id</th>\n",
       "      <th>edad</th>\n",
       "      <th>facturacion</th>\n",
       "      <th>antiguedad</th>\n",
       "      <th>provincia</th>\n",
       "      <th>num_lineas</th>\n",
       "      <th>num_dt</th>\n",
       "      <th>incidencia</th>\n",
       "      <th>num_llamad_ent</th>\n",
       "      <th>num_llamad_sal</th>\n",
       "      <th>mb_datos</th>\n",
       "      <th>seg_llamad_ent</th>\n",
       "      <th>seg_llamad_sal</th>\n",
       "      <th>financiacion</th>\n",
       "      <th>imp_financ</th>\n",
       "      <th>descuentos</th>\n",
       "      <th>conexion</th>\n",
       "      <th>vel_conexion</th>\n",
       "      <th>TV</th>\n",
       "      <th>target</th>\n",
       "    </tr>\n",
       "  </thead>\n",
       "  <tbody>\n",
       "    <tr>\n",
       "      <th>0</th>\n",
       "      <td>1</td>\n",
       "      <td>63</td>\n",
       "      <td>216.028109</td>\n",
       "      <td>2018-11-23 08:48:00</td>\n",
       "      <td>La Rioja</td>\n",
       "      <td>5</td>\n",
       "      <td>NaN</td>\n",
       "      <td>NaN</td>\n",
       "      <td>110</td>\n",
       "      <td>79</td>\n",
       "      <td>10897</td>\n",
       "      <td>12806</td>\n",
       "      <td>13751</td>\n",
       "      <td>NaN</td>\n",
       "      <td>NaN</td>\n",
       "      <td>NaN</td>\n",
       "      <td>FIBRA</td>\n",
       "      <td>50MB</td>\n",
       "      <td>tv-futbol</td>\n",
       "      <td>0</td>\n",
       "    </tr>\n",
       "    <tr>\n",
       "      <th>1</th>\n",
       "      <td>2</td>\n",
       "      <td>84</td>\n",
       "      <td>255.830842</td>\n",
       "      <td>2017-08-22 03:19:00</td>\n",
       "      <td>Vizcaya</td>\n",
       "      <td>3</td>\n",
       "      <td>NaN</td>\n",
       "      <td>NaN</td>\n",
       "      <td>189</td>\n",
       "      <td>89</td>\n",
       "      <td>18657</td>\n",
       "      <td>6499</td>\n",
       "      <td>10862</td>\n",
       "      <td>NaN</td>\n",
       "      <td>NaN</td>\n",
       "      <td>SI</td>\n",
       "      <td>FIBRA</td>\n",
       "      <td>600MB</td>\n",
       "      <td>tv-futbol</td>\n",
       "      <td>0</td>\n",
       "    </tr>\n",
       "    <tr>\n",
       "      <th>2</th>\n",
       "      <td>3</td>\n",
       "      <td>66</td>\n",
       "      <td>135.768153</td>\n",
       "      <td>2001-12-27 13:50:00</td>\n",
       "      <td>Albacete</td>\n",
       "      <td>4</td>\n",
       "      <td>NaN</td>\n",
       "      <td>NaN</td>\n",
       "      <td>129</td>\n",
       "      <td>30</td>\n",
       "      <td>15511</td>\n",
       "      <td>17013</td>\n",
       "      <td>16743</td>\n",
       "      <td>NaN</td>\n",
       "      <td>NaN</td>\n",
       "      <td>SI</td>\n",
       "      <td>ADSL</td>\n",
       "      <td>35MB</td>\n",
       "      <td>tv-futbol</td>\n",
       "      <td>0</td>\n",
       "    </tr>\n",
       "    <tr>\n",
       "      <th>3</th>\n",
       "      <td>4</td>\n",
       "      <td>69</td>\n",
       "      <td>255.658527</td>\n",
       "      <td>2015-08-08 10:53:00</td>\n",
       "      <td>Lugo</td>\n",
       "      <td>4</td>\n",
       "      <td>NaN</td>\n",
       "      <td>NaN</td>\n",
       "      <td>51</td>\n",
       "      <td>52</td>\n",
       "      <td>12670</td>\n",
       "      <td>3393</td>\n",
       "      <td>6771</td>\n",
       "      <td>NaN</td>\n",
       "      <td>NaN</td>\n",
       "      <td>NaN</td>\n",
       "      <td>FIBRA</td>\n",
       "      <td>200MB</td>\n",
       "      <td>tv-familiar</td>\n",
       "      <td>0</td>\n",
       "    </tr>\n",
       "    <tr>\n",
       "      <th>4</th>\n",
       "      <td>5</td>\n",
       "      <td>30</td>\n",
       "      <td>22.302845</td>\n",
       "      <td>1997-08-29 02:19:00</td>\n",
       "      <td>Tarragona</td>\n",
       "      <td>2</td>\n",
       "      <td>2.0</td>\n",
       "      <td>NaN</td>\n",
       "      <td>183</td>\n",
       "      <td>3</td>\n",
       "      <td>23756</td>\n",
       "      <td>18436</td>\n",
       "      <td>4485</td>\n",
       "      <td>NaN</td>\n",
       "      <td>NaN</td>\n",
       "      <td>NaN</td>\n",
       "      <td>ADSL</td>\n",
       "      <td>10MB</td>\n",
       "      <td>tv-futbol</td>\n",
       "      <td>1</td>\n",
       "    </tr>\n",
       "  </tbody>\n",
       "</table>\n",
       "</div>"
      ],
      "text/plain": [
       "   id  edad  facturacion           antiguedad  provincia  num_lineas  num_dt  \\\n",
       "0   1    63   216.028109  2018-11-23 08:48:00   La Rioja           5     NaN   \n",
       "1   2    84   255.830842  2017-08-22 03:19:00    Vizcaya           3     NaN   \n",
       "2   3    66   135.768153  2001-12-27 13:50:00   Albacete           4     NaN   \n",
       "3   4    69   255.658527  2015-08-08 10:53:00       Lugo           4     NaN   \n",
       "4   5    30    22.302845  1997-08-29 02:19:00  Tarragona           2     2.0   \n",
       "\n",
       "  incidencia  num_llamad_ent  num_llamad_sal  mb_datos  seg_llamad_ent  \\\n",
       "0        NaN             110              79     10897           12806   \n",
       "1        NaN             189              89     18657            6499   \n",
       "2        NaN             129              30     15511           17013   \n",
       "3        NaN              51              52     12670            3393   \n",
       "4        NaN             183               3     23756           18436   \n",
       "\n",
       "   seg_llamad_sal financiacion  imp_financ descuentos conexion vel_conexion  \\\n",
       "0           13751          NaN         NaN        NaN    FIBRA         50MB   \n",
       "1           10862          NaN         NaN         SI    FIBRA        600MB   \n",
       "2           16743          NaN         NaN         SI     ADSL         35MB   \n",
       "3            6771          NaN         NaN        NaN    FIBRA        200MB   \n",
       "4            4485          NaN         NaN        NaN     ADSL         10MB   \n",
       "\n",
       "            TV  target  \n",
       "0    tv-futbol       0  \n",
       "1    tv-futbol       0  \n",
       "2    tv-futbol       0  \n",
       "3  tv-familiar       0  \n",
       "4    tv-futbol       1  "
      ]
     },
     "execution_count": 14,
     "metadata": {},
     "output_type": "execute_result"
    }
   ],
   "source": [
    "df_dic['target']=churn\n",
    "df_dic.head()"
   ]
  },
  {
   "cell_type": "markdown",
   "metadata": {},
   "source": [
    "**Establecemos el id como identificador de filas**"
   ]
  },
  {
   "cell_type": "code",
   "execution_count": 15,
   "metadata": {},
   "outputs": [],
   "source": [
    "df_dic.set_index(['id'], inplace=True)\n",
    "df_ene.set_index(['id'], inplace=True)"
   ]
  },
  {
   "cell_type": "markdown",
   "metadata": {},
   "source": [
    "##  2. Preprocesado y limpieza de datos"
   ]
  },
  {
   "cell_type": "markdown",
   "metadata": {},
   "source": [
    "**Diciembre**"
   ]
  },
  {
   "cell_type": "markdown",
   "metadata": {},
   "source": [
    "En primer lugar vamos a imputar los valores nulos de las variables, así como recodificar los valores que no tienen sentido."
   ]
  },
  {
   "cell_type": "code",
   "execution_count": 16,
   "metadata": {},
   "outputs": [
    {
     "data": {
      "text/plain": [
       "edad                  0\n",
       "facturacion           0\n",
       "antiguedad            0\n",
       "provincia             0\n",
       "num_lineas            0\n",
       "num_dt            90738\n",
       "incidencia        91893\n",
       "num_llamad_ent        0\n",
       "num_llamad_sal        0\n",
       "mb_datos              0\n",
       "seg_llamad_ent        0\n",
       "seg_llamad_sal        0\n",
       "financiacion      89095\n",
       "imp_financ        89095\n",
       "descuentos        76313\n",
       "conexion              0\n",
       "vel_conexion          3\n",
       "TV                    0\n",
       "target                0\n",
       "dtype: int64"
      ]
     },
     "execution_count": 16,
     "metadata": {},
     "output_type": "execute_result"
    }
   ],
   "source": [
    "df_dic.isnull().sum()"
   ]
  },
  {
   "cell_type": "code",
   "execution_count": 17,
   "metadata": {},
   "outputs": [
    {
     "name": "stdout",
     "output_type": "stream",
     "text": [
      "edad\n",
      "37    1721\n",
      "20    1671\n",
      "27    1653\n",
      "26    1644\n",
      "23    1641\n",
      "      ... \n",
      "63    1262\n",
      "85    1260\n",
      "59    1256\n",
      "48    1244\n",
      "84    1235\n",
      "Name: edad, Length: 68, dtype: int64\n",
      "facturacion\n",
      "310.914502    1\n",
      "92.482626     1\n",
      "193.323023    1\n",
      "48.654326     1\n",
      "118.845960    1\n",
      "             ..\n",
      "137.408794    1\n",
      "81.341921     1\n",
      "251.949354    1\n",
      "264.974536    1\n",
      "357.251060    1\n",
      "Name: facturacion, Length: 95467, dtype: int64\n",
      "antiguedad\n",
      "2007-11-16 06:32:00    2\n",
      "2006-10-08 05:38:00    2\n",
      "1996-02-02 12:39:00    2\n",
      "2004-11-20 18:10:00    2\n",
      "2000-03-27 20:31:00    2\n",
      "                      ..\n",
      "2015-12-22 11:59:00    1\n",
      "2014-09-01 22:26:00    1\n",
      "2008-04-17 10:38:00    1\n",
      "1997-10-11 13:45:00    1\n",
      "1997-08-14 01:03:00    1\n",
      "Name: antiguedad, Length: 95171, dtype: int64\n",
      "provincia\n",
      "Zaragoza                  1991\n",
      "Navarra                   1986\n",
      "Málaga                    1973\n",
      "Valencia                  1972\n",
      "Asturias                  1972\n",
      "Murcia                    1967\n",
      "Orense                    1958\n",
      "Alicante                  1954\n",
      "Córdoba                   1949\n",
      "Cáceres                   1945\n",
      "Burgos                    1939\n",
      "Guipúzcoa                 1936\n",
      "Álava                     1932\n",
      "Valladolid                1931\n",
      "Sevilla                   1928\n",
      "Huelva                    1924\n",
      "Santa Cruz de Tenerife    1922\n",
      "La Coruña                 1921\n",
      "Segovia                   1917\n",
      "Castellón                 1915\n",
      "Granada                   1914\n",
      "Tarragona                 1913\n",
      "Zamora                    1913\n",
      "Almería                   1912\n",
      "Soria                     1909\n",
      "Pontevedra                1907\n",
      "Madrid                    1907\n",
      "Ciudad Real               1905\n",
      "Cádiz                     1902\n",
      "Badajoz                   1900\n",
      "Islas Baleares            1899\n",
      "Barcelona                 1899\n",
      "Teruel                    1898\n",
      "Salamanca                 1898\n",
      "Ávila                     1893\n",
      "Albacete                  1889\n",
      "Jaén                      1888\n",
      "Guadalajara               1881\n",
      "Lérida                    1879\n",
      "La Rioja                  1877\n",
      "Lugo                      1871\n",
      "Toledo                    1869\n",
      "Gerona                    1864\n",
      "Las Palmas                1860\n",
      "Palencia                  1860\n",
      "Cuenca                    1855\n",
      "Cantabria                 1853\n",
      "León                      1851\n",
      "Vizcaya                   1838\n",
      "Huesca                    1831\n",
      "Name: provincia, dtype: int64\n",
      "num_lineas\n",
      "3     30013\n",
      "4     26619\n",
      "5     22794\n",
      "2     13186\n",
      "1      2852\n",
      "39        1\n",
      "26        1\n",
      "18        1\n",
      "Name: num_lineas, dtype: int64\n",
      "num_dt\n",
      "4.0    1206\n",
      "1.0    1179\n",
      "2.0    1174\n",
      "3.0    1170\n",
      "Name: num_dt, dtype: int64\n",
      "incidencia\n",
      "SI    3574\n",
      "Name: incidencia, dtype: int64\n",
      "num_llamad_ent\n",
      "43     439\n",
      "93     426\n",
      "114    424\n",
      "3      421\n",
      "108    417\n",
      "      ... \n",
      "60     344\n",
      "47     336\n",
      "166    327\n",
      "86     326\n",
      "81     325\n",
      "Name: num_llamad_ent, Length: 251, dtype: int64\n",
      "num_llamad_sal\n",
      "77    1041\n",
      "91    1012\n",
      "61    1010\n",
      "54    1003\n",
      "11     999\n",
      "      ... \n",
      "96     895\n",
      "92     882\n",
      "99     882\n",
      "24     881\n",
      "9      877\n",
      "Name: num_llamad_sal, Length: 101, dtype: int64\n",
      "mb_datos\n",
      "11098    16\n",
      "5958     15\n",
      "9064     14\n",
      "4603     13\n",
      "10406    13\n",
      "         ..\n",
      "5018      1\n",
      "19345     1\n",
      "856       1\n",
      "23379     1\n",
      "0         1\n",
      "Name: mb_datos, Length: 24456, dtype: int64\n",
      "seg_llamad_ent\n",
      "0        356\n",
      "3886      15\n",
      "10308     14\n",
      "7727      14\n",
      "6959      14\n",
      "        ... \n",
      "17410      1\n",
      "9230       1\n",
      "3057       1\n",
      "19523      1\n",
      "8265       1\n",
      "Name: seg_llamad_ent, Length: 19829, dtype: int64\n",
      "seg_llamad_sal\n",
      "0        949\n",
      "10968     16\n",
      "18443     15\n",
      "18060     14\n",
      "5010      14\n",
      "        ... \n",
      "18121      1\n",
      "15380      1\n",
      "19743      1\n",
      "1302       1\n",
      "652        1\n",
      "Name: seg_llamad_sal, Length: 19821, dtype: int64\n",
      "financiacion\n",
      "SI    6372\n",
      "Name: financiacion, dtype: int64\n",
      "imp_financ\n",
      "39.243454    1\n",
      "27.773702    1\n",
      "13.844082    1\n",
      "32.902067    1\n",
      "37.717607    1\n",
      "            ..\n",
      "14.180035    1\n",
      "11.722279    1\n",
      "27.875632    1\n",
      "21.375463    1\n",
      "28.768734    1\n",
      "Name: imp_financ, Length: 6372, dtype: int64\n",
      "descuentos\n",
      "SI    19154\n",
      "Name: descuentos, dtype: int64\n",
      "conexion\n",
      "ADSL     48630\n",
      "FIBRA    46837\n",
      "Name: conexion, dtype: int64\n",
      "vel_conexion\n",
      "200MB    9675\n",
      "600MB    9622\n",
      "50MB     9474\n",
      "300MB    9460\n",
      "100MB    9332\n",
      "20MB     8113\n",
      "25MB     8112\n",
      "10MB     7969\n",
      "30MB     7948\n",
      "35MB     7947\n",
      "15MB     7809\n",
      "?           1\n",
      "16598       1\n",
      "1           1\n",
      "Name: vel_conexion, dtype: int64\n",
      "TV\n",
      "tv-futbol      49634\n",
      "tv-familiar    32746\n",
      "tv-total       13087\n",
      "Name: TV, dtype: int64\n",
      "target\n",
      "0    88382\n",
      "1     7085\n",
      "Name: target, dtype: int64\n"
     ]
    }
   ],
   "source": [
    "for i in df_dic.columns:\n",
    "    print(i)\n",
    "    print(df_dic[i].value_counts())"
   ]
  },
  {
   "cell_type": "markdown",
   "metadata": {},
   "source": [
    "Observamos valores nulos en la variable num_dt (número de lineas en impago), en incidencia (si el cliente ha tenido alguna incidencia o reclamación), en financiacion (si el cliente tiene financiado algún terminal), imp_financ (dinero mensual que se paga por los terminales financiados), descuentos (si el cliente tiene activo algún descuento) y en vel_conexion. Además en num_lineas y en vel_conexion hay valores mal codificados."
   ]
  },
  {
   "cell_type": "markdown",
   "metadata": {},
   "source": [
    "*num_dt*"
   ]
  },
  {
   "cell_type": "code",
   "execution_count": 18,
   "metadata": {},
   "outputs": [
    {
     "data": {
      "text/plain": [
       "4.0    1206\n",
       "1.0    1179\n",
       "2.0    1174\n",
       "3.0    1170\n",
       "Name: num_dt, dtype: int64"
      ]
     },
     "execution_count": 18,
     "metadata": {},
     "output_type": "execute_result"
    }
   ],
   "source": [
    "df_dic.num_dt.value_counts()"
   ]
  },
  {
   "cell_type": "markdown",
   "metadata": {},
   "source": [
    "Los valores nulos de esta variable singnifican que el cliente no tiene ninguna linea en impago, por lo que los imputaremos por ceros."
   ]
  },
  {
   "cell_type": "code",
   "execution_count": 19,
   "metadata": {},
   "outputs": [
    {
     "data": {
      "text/plain": [
       "0.0    90738\n",
       "4.0     1206\n",
       "1.0     1179\n",
       "2.0     1174\n",
       "3.0     1170\n",
       "Name: num_dt, dtype: int64"
      ]
     },
     "execution_count": 19,
     "metadata": {},
     "output_type": "execute_result"
    }
   ],
   "source": [
    "df_dic['num_dt'] = df_dic['num_dt'].fillna(0)\n",
    "df_dic.num_dt.value_counts()"
   ]
  },
  {
   "cell_type": "markdown",
   "metadata": {},
   "source": [
    "*incidencia*"
   ]
  },
  {
   "cell_type": "code",
   "execution_count": 20,
   "metadata": {},
   "outputs": [
    {
     "data": {
      "text/plain": [
       "SI    3574\n",
       "Name: incidencia, dtype: int64"
      ]
     },
     "execution_count": 20,
     "metadata": {},
     "output_type": "execute_result"
    }
   ],
   "source": [
    "df_dic.incidencia.value_counts()"
   ]
  },
  {
   "cell_type": "markdown",
   "metadata": {},
   "source": [
    "Los valores nulos de esta variable son que el cliente no ha tenido ninguna incidencia, los imputaremos por 'NO'"
   ]
  },
  {
   "cell_type": "code",
   "execution_count": 21,
   "metadata": {},
   "outputs": [
    {
     "data": {
      "text/plain": [
       "NO    91893\n",
       "SI     3574\n",
       "Name: incidencia, dtype: int64"
      ]
     },
     "execution_count": 21,
     "metadata": {},
     "output_type": "execute_result"
    }
   ],
   "source": [
    "df_dic['incidencia']=df_dic['incidencia'].fillna('NO')\n",
    "df_dic.incidencia.value_counts()"
   ]
  },
  {
   "cell_type": "markdown",
   "metadata": {},
   "source": [
    "Y a continuación, transformamos la variable a binaria:"
   ]
  },
  {
   "cell_type": "code",
   "execution_count": 22,
   "metadata": {},
   "outputs": [],
   "source": [
    "df_dic['incidencia']=df_dic['incidencia'].apply(lambda x: 0 if x=='NO' else 1)"
   ]
  },
  {
   "cell_type": "markdown",
   "metadata": {},
   "source": [
    "*financiacion*"
   ]
  },
  {
   "cell_type": "code",
   "execution_count": 23,
   "metadata": {},
   "outputs": [
    {
     "data": {
      "text/plain": [
       "SI    6372\n",
       "Name: financiacion, dtype: int64"
      ]
     },
     "execution_count": 23,
     "metadata": {},
     "output_type": "execute_result"
    }
   ],
   "source": [
    "df_dic.financiacion.value_counts()"
   ]
  },
  {
   "cell_type": "markdown",
   "metadata": {},
   "source": [
    "Los valores nulos de esta variable son que el cliente no tiene financiación, los imputaremos por 'NO'."
   ]
  },
  {
   "cell_type": "code",
   "execution_count": 24,
   "metadata": {},
   "outputs": [
    {
     "data": {
      "text/plain": [
       "NO    89095\n",
       "SI     6372\n",
       "Name: financiacion, dtype: int64"
      ]
     },
     "execution_count": 24,
     "metadata": {},
     "output_type": "execute_result"
    }
   ],
   "source": [
    "df_dic['financiacion']=df_dic['financiacion'].fillna('NO')\n",
    "df_dic.financiacion.value_counts()"
   ]
  },
  {
   "cell_type": "markdown",
   "metadata": {},
   "source": [
    "Y a continuación, transformamos la variable a binaria:"
   ]
  },
  {
   "cell_type": "code",
   "execution_count": 25,
   "metadata": {},
   "outputs": [],
   "source": [
    "df_dic['financiacion']=df_dic['financiacion'].apply(lambda x: 0 if x=='NO' else 1)"
   ]
  },
  {
   "cell_type": "markdown",
   "metadata": {},
   "source": [
    "*imp_financ*"
   ]
  },
  {
   "cell_type": "code",
   "execution_count": 26,
   "metadata": {},
   "outputs": [
    {
     "data": {
      "text/plain": [
       "39.243454    1\n",
       "27.773702    1\n",
       "13.844082    1\n",
       "32.902067    1\n",
       "37.717607    1\n",
       "            ..\n",
       "14.180035    1\n",
       "11.722279    1\n",
       "27.875632    1\n",
       "21.375463    1\n",
       "28.768734    1\n",
       "Name: imp_financ, Length: 6372, dtype: int64"
      ]
     },
     "execution_count": 26,
     "metadata": {},
     "output_type": "execute_result"
    }
   ],
   "source": [
    "df_dic.imp_financ.value_counts()"
   ]
  },
  {
   "cell_type": "markdown",
   "metadata": {},
   "source": [
    "Esta variable va ligada a si el cliente tiene financiación o no, por lo que los valores nulos son ceros ya que esos clientes no tienen ninguna financiación."
   ]
  },
  {
   "cell_type": "code",
   "execution_count": 27,
   "metadata": {},
   "outputs": [],
   "source": [
    "df_dic['imp_financ']=df_dic['imp_financ'].fillna('0')\n",
    "df_dic.imp_financ.value_counts()\n",
    "df_dic['imp_financ']=df_dic['imp_financ'].astype(float)"
   ]
  },
  {
   "cell_type": "markdown",
   "metadata": {},
   "source": [
    "*descuentos*"
   ]
  },
  {
   "cell_type": "code",
   "execution_count": 28,
   "metadata": {},
   "outputs": [
    {
     "data": {
      "text/plain": [
       "SI    19154\n",
       "Name: descuentos, dtype: int64"
      ]
     },
     "execution_count": 28,
     "metadata": {},
     "output_type": "execute_result"
    }
   ],
   "source": [
    "df_dic.descuentos.value_counts()"
   ]
  },
  {
   "cell_type": "markdown",
   "metadata": {},
   "source": [
    "Los valores nulos de esta variable significan que el cliente no tiene descuentos, por lo que los imputaremos por 'NO'."
   ]
  },
  {
   "cell_type": "code",
   "execution_count": 29,
   "metadata": {},
   "outputs": [
    {
     "data": {
      "text/plain": [
       "NO    76313\n",
       "SI    19154\n",
       "Name: descuentos, dtype: int64"
      ]
     },
     "execution_count": 29,
     "metadata": {},
     "output_type": "execute_result"
    }
   ],
   "source": [
    "df_dic['descuentos']=df_dic['descuentos'].fillna('NO')\n",
    "df_dic.descuentos.value_counts()"
   ]
  },
  {
   "cell_type": "markdown",
   "metadata": {},
   "source": [
    "Y a continuación, transformamos la variable a binaria:"
   ]
  },
  {
   "cell_type": "code",
   "execution_count": 30,
   "metadata": {},
   "outputs": [],
   "source": [
    "df_dic['descuentos']=df_dic['descuentos'].apply(lambda x: 0 if x=='NO' else 1)"
   ]
  },
  {
   "cell_type": "markdown",
   "metadata": {},
   "source": [
    "*vel_conexion*"
   ]
  },
  {
   "cell_type": "code",
   "execution_count": 31,
   "metadata": {},
   "outputs": [
    {
     "data": {
      "text/plain": [
       "200MB    9675\n",
       "600MB    9622\n",
       "50MB     9474\n",
       "300MB    9460\n",
       "100MB    9332\n",
       "20MB     8113\n",
       "25MB     8112\n",
       "10MB     7969\n",
       "30MB     7948\n",
       "35MB     7947\n",
       "15MB     7809\n",
       "?           1\n",
       "16598       1\n",
       "1           1\n",
       "Name: vel_conexion, dtype: int64"
      ]
     },
     "execution_count": 31,
     "metadata": {},
     "output_type": "execute_result"
    }
   ],
   "source": [
    "df_dic.vel_conexion.value_counts()"
   ]
  },
  {
   "cell_type": "markdown",
   "metadata": {},
   "source": [
    "En esta variable encontramos tanto valores nulos como mal codificados (3 valores), por lo que vamos a imputar todos por la moda."
   ]
  },
  {
   "cell_type": "code",
   "execution_count": 32,
   "metadata": {},
   "outputs": [
    {
     "data": {
      "text/plain": [
       "'200MB'"
      ]
     },
     "execution_count": 32,
     "metadata": {},
     "output_type": "execute_result"
    }
   ],
   "source": [
    "moda = df_dic['vel_conexion'].mode()[0]\n",
    "moda"
   ]
  },
  {
   "cell_type": "code",
   "execution_count": 33,
   "metadata": {},
   "outputs": [],
   "source": [
    "df_dic.vel_conexion=df_dic.vel_conexion.replace({'16598': moda, '?': moda, '1':moda})"
   ]
  },
  {
   "cell_type": "code",
   "execution_count": 34,
   "metadata": {},
   "outputs": [],
   "source": [
    "df_dic['vel_conexion']=df_dic['vel_conexion'].fillna(df_dic['vel_conexion'].mode()[0])"
   ]
  },
  {
   "cell_type": "markdown",
   "metadata": {},
   "source": [
    "A continuación, vamos a eliminar \"MB\" para tomar la variable como numérica."
   ]
  },
  {
   "cell_type": "code",
   "execution_count": 35,
   "metadata": {},
   "outputs": [],
   "source": [
    "df_dic['vel_conexion']= df_dic['vel_conexion'].str.replace(\"MB\",\"\")\n",
    "df_dic['vel_conexion'] = pd.to_numeric(df_dic['vel_conexion'],errors='coerce')"
   ]
  },
  {
   "cell_type": "code",
   "execution_count": 36,
   "metadata": {},
   "outputs": [
    {
     "data": {
      "text/plain": [
       "200    9681\n",
       "600    9622\n",
       "50     9474\n",
       "300    9460\n",
       "100    9332\n",
       "20     8113\n",
       "25     8112\n",
       "10     7969\n",
       "30     7948\n",
       "35     7947\n",
       "15     7809\n",
       "Name: vel_conexion, dtype: int64"
      ]
     },
     "execution_count": 36,
     "metadata": {},
     "output_type": "execute_result"
    }
   ],
   "source": [
    "df_dic.vel_conexion.value_counts()"
   ]
  },
  {
   "cell_type": "markdown",
   "metadata": {},
   "source": [
    "Por último, comprobamos que no quedan valores nulos en ninguna variable:"
   ]
  },
  {
   "cell_type": "code",
   "execution_count": 37,
   "metadata": {
    "scrolled": true
   },
   "outputs": [
    {
     "data": {
      "text/plain": [
       "edad              0\n",
       "facturacion       0\n",
       "antiguedad        0\n",
       "provincia         0\n",
       "num_lineas        0\n",
       "num_dt            0\n",
       "incidencia        0\n",
       "num_llamad_ent    0\n",
       "num_llamad_sal    0\n",
       "mb_datos          0\n",
       "seg_llamad_ent    0\n",
       "seg_llamad_sal    0\n",
       "financiacion      0\n",
       "imp_financ        0\n",
       "descuentos        0\n",
       "conexion          0\n",
       "vel_conexion      0\n",
       "TV                0\n",
       "target            0\n",
       "dtype: int64"
      ]
     },
     "execution_count": 37,
     "metadata": {},
     "output_type": "execute_result"
    }
   ],
   "source": [
    "df_dic.isnull().sum()"
   ]
  },
  {
   "cell_type": "markdown",
   "metadata": {},
   "source": [
    "Una vez que hemos imputado los nulos, vamos a pasar las variables tipo 'object' a tipo numerico para poder introducirlas en el modelo. Además, recodifico la variable num_lineas que tiene valores atipicos."
   ]
  },
  {
   "cell_type": "code",
   "execution_count": 38,
   "metadata": {},
   "outputs": [
    {
     "data": {
      "text/plain": [
       "edad                int64\n",
       "facturacion       float64\n",
       "antiguedad         object\n",
       "provincia          object\n",
       "num_lineas          int64\n",
       "num_dt            float64\n",
       "incidencia          int64\n",
       "num_llamad_ent      int64\n",
       "num_llamad_sal      int64\n",
       "mb_datos            int64\n",
       "seg_llamad_ent      int64\n",
       "seg_llamad_sal      int64\n",
       "financiacion        int64\n",
       "imp_financ        float64\n",
       "descuentos          int64\n",
       "conexion           object\n",
       "vel_conexion        int64\n",
       "TV                 object\n",
       "target              int64\n",
       "dtype: object"
      ]
     },
     "execution_count": 38,
     "metadata": {},
     "output_type": "execute_result"
    }
   ],
   "source": [
    "df_dic.dtypes"
   ]
  },
  {
   "cell_type": "markdown",
   "metadata": {},
   "source": [
    "*num_lineas*"
   ]
  },
  {
   "cell_type": "markdown",
   "metadata": {},
   "source": [
    "Como solo son 3 los valores atípicos, los vamos a recodificar introduciendoles en el grupo de 5 lineas porque más adelante crearemos 3 categorías de esta variable. Si hubiera más casos, podríamos crear una nueva categoría, ya que este número tan elevado de lineas puede deberse a que pertenezcan a una empresa. "
   ]
  },
  {
   "cell_type": "code",
   "execution_count": 39,
   "metadata": {},
   "outputs": [
    {
     "data": {
      "text/plain": [
       "3    30013\n",
       "4    26619\n",
       "5    22797\n",
       "2    13186\n",
       "1     2852\n",
       "Name: num_lineas, dtype: int64"
      ]
     },
     "execution_count": 39,
     "metadata": {},
     "output_type": "execute_result"
    }
   ],
   "source": [
    "df_dic.num_lineas=df_dic.num_lineas.replace({39: 5, 26: 5, 18:5})\n",
    "df_dic.num_lineas.value_counts()"
   ]
  },
  {
   "cell_type": "markdown",
   "metadata": {},
   "source": [
    "*TV*"
   ]
  },
  {
   "cell_type": "markdown",
   "metadata": {},
   "source": [
    "La variable TV la vamos a pasar a numérica."
   ]
  },
  {
   "cell_type": "code",
   "execution_count": 40,
   "metadata": {},
   "outputs": [],
   "source": [
    "df_dic.TV.replace(('tv-futbol', 'tv-familiar', 'tv-total'),\n",
    "                      (1,2,3),inplace=True)"
   ]
  },
  {
   "cell_type": "code",
   "execution_count": 41,
   "metadata": {},
   "outputs": [
    {
     "data": {
      "text/plain": [
       "1    49634\n",
       "2    32746\n",
       "3    13087\n",
       "Name: TV, dtype: int64"
      ]
     },
     "execution_count": 41,
     "metadata": {},
     "output_type": "execute_result"
    }
   ],
   "source": [
    "df_dic.TV.value_counts()"
   ]
  },
  {
   "cell_type": "markdown",
   "metadata": {},
   "source": [
    "*Conexion*"
   ]
  },
  {
   "cell_type": "markdown",
   "metadata": {},
   "source": [
    "Igual que hemos hecho con la variable TV, pasamos a numerica la variable conexión."
   ]
  },
  {
   "cell_type": "code",
   "execution_count": 42,
   "metadata": {},
   "outputs": [],
   "source": [
    "df_dic.conexion.replace(('ADSL', 'FIBRA'), (1,2), inplace=True)"
   ]
  },
  {
   "cell_type": "code",
   "execution_count": 43,
   "metadata": {},
   "outputs": [
    {
     "data": {
      "text/plain": [
       "1    48630\n",
       "2    46837\n",
       "Name: conexion, dtype: int64"
      ]
     },
     "execution_count": 43,
     "metadata": {},
     "output_type": "execute_result"
    }
   ],
   "source": [
    "df_dic.conexion.value_counts()"
   ]
  },
  {
   "cell_type": "markdown",
   "metadata": {},
   "source": [
    "*Antigüedad*"
   ]
  },
  {
   "cell_type": "markdown",
   "metadata": {},
   "source": [
    "A través de esta variable de tipo fecha, vamos a obtener la antiguedad de los clientes en número de días."
   ]
  },
  {
   "cell_type": "code",
   "execution_count": 44,
   "metadata": {},
   "outputs": [],
   "source": [
    "df_dic['antiguedad']=pd.to_datetime(df_dic['antiguedad'])\n",
    "fecha = \"2020-01-01\" #para que recoja los datos del día 31\n",
    "ahora = datetime.strptime(fecha, '%Y-%m-%d')\n",
    "df_dic['antig']=ahora - df_dic['antiguedad']\n",
    "df_dic['antig']=df_dic['antig'].dt.days"
   ]
  },
  {
   "cell_type": "code",
   "execution_count": 45,
   "metadata": {},
   "outputs": [],
   "source": [
    "df_dic.drop(columns = ['antiguedad'], inplace=True)"
   ]
  },
  {
   "cell_type": "markdown",
   "metadata": {},
   "source": [
    "*Provincias*"
   ]
  },
  {
   "cell_type": "markdown",
   "metadata": {},
   "source": [
    "Primero guardamos una lista con las provincias y luego con la funcion de LabelEncoder la transformo a numerica."
   ]
  },
  {
   "cell_type": "code",
   "execution_count": 46,
   "metadata": {},
   "outputs": [],
   "source": [
    "provincias = list(df_dic.provincia.unique())"
   ]
  },
  {
   "cell_type": "code",
   "execution_count": 47,
   "metadata": {},
   "outputs": [],
   "source": [
    "transform = LabelEncoder()\n",
    "transform.fit_transform(provincias)\n",
    "prov = transform.transform(df_dic['provincia'])\n",
    "df_dic['provincia']= prov"
   ]
  },
  {
   "cell_type": "markdown",
   "metadata": {},
   "source": [
    "Por último compruebo que todas mis variables son numéricas."
   ]
  },
  {
   "cell_type": "code",
   "execution_count": 48,
   "metadata": {
    "scrolled": true
   },
   "outputs": [
    {
     "data": {
      "text/plain": [
       "edad                int64\n",
       "facturacion       float64\n",
       "provincia           int32\n",
       "num_lineas          int64\n",
       "num_dt            float64\n",
       "incidencia          int64\n",
       "num_llamad_ent      int64\n",
       "num_llamad_sal      int64\n",
       "mb_datos            int64\n",
       "seg_llamad_ent      int64\n",
       "seg_llamad_sal      int64\n",
       "financiacion        int64\n",
       "imp_financ        float64\n",
       "descuentos          int64\n",
       "conexion            int64\n",
       "vel_conexion        int64\n",
       "TV                  int64\n",
       "target              int64\n",
       "antig               int64\n",
       "dtype: object"
      ]
     },
     "execution_count": 48,
     "metadata": {},
     "output_type": "execute_result"
    }
   ],
   "source": [
    "df_dic.dtypes"
   ]
  },
  {
   "cell_type": "code",
   "execution_count": 49,
   "metadata": {
    "scrolled": false
   },
   "outputs": [
    {
     "data": {
      "text/html": [
       "<div>\n",
       "<style scoped>\n",
       "    .dataframe tbody tr th:only-of-type {\n",
       "        vertical-align: middle;\n",
       "    }\n",
       "\n",
       "    .dataframe tbody tr th {\n",
       "        vertical-align: top;\n",
       "    }\n",
       "\n",
       "    .dataframe thead th {\n",
       "        text-align: right;\n",
       "    }\n",
       "</style>\n",
       "<table border=\"1\" class=\"dataframe\">\n",
       "  <thead>\n",
       "    <tr style=\"text-align: right;\">\n",
       "      <th></th>\n",
       "      <th>edad</th>\n",
       "      <th>facturacion</th>\n",
       "      <th>provincia</th>\n",
       "      <th>num_lineas</th>\n",
       "      <th>num_dt</th>\n",
       "      <th>incidencia</th>\n",
       "      <th>num_llamad_ent</th>\n",
       "      <th>num_llamad_sal</th>\n",
       "      <th>mb_datos</th>\n",
       "      <th>seg_llamad_ent</th>\n",
       "      <th>seg_llamad_sal</th>\n",
       "      <th>financiacion</th>\n",
       "      <th>imp_financ</th>\n",
       "      <th>descuentos</th>\n",
       "      <th>conexion</th>\n",
       "      <th>vel_conexion</th>\n",
       "      <th>TV</th>\n",
       "      <th>target</th>\n",
       "      <th>antig</th>\n",
       "    </tr>\n",
       "    <tr>\n",
       "      <th>id</th>\n",
       "      <th></th>\n",
       "      <th></th>\n",
       "      <th></th>\n",
       "      <th></th>\n",
       "      <th></th>\n",
       "      <th></th>\n",
       "      <th></th>\n",
       "      <th></th>\n",
       "      <th></th>\n",
       "      <th></th>\n",
       "      <th></th>\n",
       "      <th></th>\n",
       "      <th></th>\n",
       "      <th></th>\n",
       "      <th></th>\n",
       "      <th></th>\n",
       "      <th></th>\n",
       "      <th></th>\n",
       "      <th></th>\n",
       "    </tr>\n",
       "  </thead>\n",
       "  <tbody>\n",
       "    <tr>\n",
       "      <th>1</th>\n",
       "      <td>63</td>\n",
       "      <td>216.028109</td>\n",
       "      <td>23</td>\n",
       "      <td>5</td>\n",
       "      <td>0.0</td>\n",
       "      <td>0</td>\n",
       "      <td>110</td>\n",
       "      <td>79</td>\n",
       "      <td>10897</td>\n",
       "      <td>12806</td>\n",
       "      <td>13751</td>\n",
       "      <td>0</td>\n",
       "      <td>0.0</td>\n",
       "      <td>0</td>\n",
       "      <td>2</td>\n",
       "      <td>50</td>\n",
       "      <td>1</td>\n",
       "      <td>0</td>\n",
       "      <td>403</td>\n",
       "    </tr>\n",
       "    <tr>\n",
       "      <th>2</th>\n",
       "      <td>84</td>\n",
       "      <td>255.830842</td>\n",
       "      <td>45</td>\n",
       "      <td>3</td>\n",
       "      <td>0.0</td>\n",
       "      <td>0</td>\n",
       "      <td>189</td>\n",
       "      <td>89</td>\n",
       "      <td>18657</td>\n",
       "      <td>6499</td>\n",
       "      <td>10862</td>\n",
       "      <td>0</td>\n",
       "      <td>0.0</td>\n",
       "      <td>1</td>\n",
       "      <td>2</td>\n",
       "      <td>600</td>\n",
       "      <td>1</td>\n",
       "      <td>0</td>\n",
       "      <td>861</td>\n",
       "    </tr>\n",
       "    <tr>\n",
       "      <th>3</th>\n",
       "      <td>66</td>\n",
       "      <td>135.768153</td>\n",
       "      <td>0</td>\n",
       "      <td>4</td>\n",
       "      <td>0.0</td>\n",
       "      <td>0</td>\n",
       "      <td>129</td>\n",
       "      <td>30</td>\n",
       "      <td>15511</td>\n",
       "      <td>17013</td>\n",
       "      <td>16743</td>\n",
       "      <td>0</td>\n",
       "      <td>0.0</td>\n",
       "      <td>1</td>\n",
       "      <td>1</td>\n",
       "      <td>35</td>\n",
       "      <td>1</td>\n",
       "      <td>0</td>\n",
       "      <td>6578</td>\n",
       "    </tr>\n",
       "    <tr>\n",
       "      <th>4</th>\n",
       "      <td>69</td>\n",
       "      <td>255.658527</td>\n",
       "      <td>26</td>\n",
       "      <td>4</td>\n",
       "      <td>0.0</td>\n",
       "      <td>0</td>\n",
       "      <td>51</td>\n",
       "      <td>52</td>\n",
       "      <td>12670</td>\n",
       "      <td>3393</td>\n",
       "      <td>6771</td>\n",
       "      <td>0</td>\n",
       "      <td>0.0</td>\n",
       "      <td>0</td>\n",
       "      <td>2</td>\n",
       "      <td>200</td>\n",
       "      <td>2</td>\n",
       "      <td>0</td>\n",
       "      <td>1606</td>\n",
       "    </tr>\n",
       "    <tr>\n",
       "      <th>5</th>\n",
       "      <td>30</td>\n",
       "      <td>22.302845</td>\n",
       "      <td>40</td>\n",
       "      <td>2</td>\n",
       "      <td>2.0</td>\n",
       "      <td>0</td>\n",
       "      <td>183</td>\n",
       "      <td>3</td>\n",
       "      <td>23756</td>\n",
       "      <td>18436</td>\n",
       "      <td>4485</td>\n",
       "      <td>0</td>\n",
       "      <td>0.0</td>\n",
       "      <td>0</td>\n",
       "      <td>1</td>\n",
       "      <td>10</td>\n",
       "      <td>1</td>\n",
       "      <td>1</td>\n",
       "      <td>8159</td>\n",
       "    </tr>\n",
       "  </tbody>\n",
       "</table>\n",
       "</div>"
      ],
      "text/plain": [
       "    edad  facturacion  provincia  num_lineas  num_dt  incidencia  \\\n",
       "id                                                                 \n",
       "1     63   216.028109         23           5     0.0           0   \n",
       "2     84   255.830842         45           3     0.0           0   \n",
       "3     66   135.768153          0           4     0.0           0   \n",
       "4     69   255.658527         26           4     0.0           0   \n",
       "5     30    22.302845         40           2     2.0           0   \n",
       "\n",
       "    num_llamad_ent  num_llamad_sal  mb_datos  seg_llamad_ent  seg_llamad_sal  \\\n",
       "id                                                                             \n",
       "1              110              79     10897           12806           13751   \n",
       "2              189              89     18657            6499           10862   \n",
       "3              129              30     15511           17013           16743   \n",
       "4               51              52     12670            3393            6771   \n",
       "5              183               3     23756           18436            4485   \n",
       "\n",
       "    financiacion  imp_financ  descuentos  conexion  vel_conexion  TV  target  \\\n",
       "id                                                                             \n",
       "1              0         0.0           0         2            50   1       0   \n",
       "2              0         0.0           1         2           600   1       0   \n",
       "3              0         0.0           1         1            35   1       0   \n",
       "4              0         0.0           0         2           200   2       0   \n",
       "5              0         0.0           0         1            10   1       1   \n",
       "\n",
       "    antig  \n",
       "id         \n",
       "1     403  \n",
       "2     861  \n",
       "3    6578  \n",
       "4    1606  \n",
       "5    8159  "
      ]
     },
     "execution_count": 49,
     "metadata": {},
     "output_type": "execute_result"
    }
   ],
   "source": [
    "df_dic.head()"
   ]
  },
  {
   "cell_type": "markdown",
   "metadata": {},
   "source": [
    "## 3. Muestreo de datos"
   ]
  },
  {
   "cell_type": "markdown",
   "metadata": {},
   "source": [
    "Creamos nuestra variable objetivo 'y' y eliminamos la target del conjunto de datos para hacer las particiones."
   ]
  },
  {
   "cell_type": "code",
   "execution_count": 50,
   "metadata": {},
   "outputs": [],
   "source": [
    "y = df_dic['target']\n",
    "y.value_counts()\n",
    "df_final1 = df_dic.drop(columns= ['target'])"
   ]
  },
  {
   "cell_type": "code",
   "execution_count": 51,
   "metadata": {},
   "outputs": [],
   "source": [
    "X_train, X_test, y_train, y_test = train_test_split(df_final1,\n",
    "                                                    y,\n",
    "                                                    test_size=0.3,\n",
    "                                                    random_state=42,\n",
    "                                                    stratify = y)"
   ]
  },
  {
   "cell_type": "markdown",
   "metadata": {},
   "source": [
    "## 4. Modelo "
   ]
  },
  {
   "cell_type": "markdown",
   "metadata": {},
   "source": [
    "Tras probar con regresión logística, Randon Forest y XGB llegamos a la conclusión de que el modelo que mejor funciona es el XGB mostrado a continuación:"
   ]
  },
  {
   "cell_type": "code",
   "execution_count": 52,
   "metadata": {},
   "outputs": [],
   "source": [
    "def saca_metricas(y1, y2):\n",
    "    print('matriz de confusión')\n",
    "    print(confusion_matrix(y1, y2))\n",
    "    print('accuracy')\n",
    "    print(accuracy_score(y1, y2))\n",
    "    print('precision')\n",
    "    print(precision_score(y1, y2))  \n",
    "    print('sensibilidad')\n",
    "    print(recall_score(y1, y2))\n",
    "    confusion=confusion_matrix(y1,y2)\n",
    "    print('especificidad')\n",
    "    print(confusion[0,0]/(confusion[0,0]+confusion[0,1]))\n",
    "    print('f1')\n",
    "    print(f1_score(y1, y2))\n",
    "    false_positive_rate, recall, thresholds = roc_curve(y1, y2)\n",
    "    roc_auc = auc(false_positive_rate, recall)\n",
    "    print('AUC')\n",
    "    print(roc_auc)\n",
    "    plt.plot(false_positive_rate, recall, 'b')\n",
    "    plt.plot([0, 1], [0, 1], 'r--')\n",
    "    plt.title('AUC = %0.2f' % roc_auc)  "
   ]
  },
  {
   "cell_type": "code",
   "execution_count": 53,
   "metadata": {},
   "outputs": [
    {
     "name": "stderr",
     "output_type": "stream",
     "text": [
      "C:\\Users\\nerea\\anaconda3\\lib\\site-packages\\xgboost\\sklearn.py:888: UserWarning: The use of label encoder in XGBClassifier is deprecated and will be removed in a future release. To remove this warning, do the following: 1) Pass option use_label_encoder=False when constructing XGBClassifier object; and 2) Encode your labels (y) as integers starting with 0, i.e. 0, 1, 2, ..., [num_class - 1].\n",
      "  warnings.warn(label_encoder_deprecation_msg, UserWarning)\n"
     ]
    },
    {
     "name": "stdout",
     "output_type": "stream",
     "text": [
      "[10:36:20] WARNING: C:/Users/Administrator/workspace/xgboost-win64_release_1.3.0/src/learner.cc:1061: Starting in XGBoost 1.3.0, the default evaluation metric used with the objective 'binary:logistic' was changed from 'error' to 'logloss'. Explicitly set eval_metric if you'd like to restore the old behavior.\n",
      "matriz de confusión\n",
      "[[26289   226]\n",
      " [  859  1267]]\n",
      "accuracy\n",
      "0.9621172445096191\n",
      "precision\n",
      "0.8486269256530475\n",
      "sensibilidad\n",
      "0.5959548447789276\n",
      "especificidad\n",
      "0.991476522722987\n",
      "f1\n",
      "0.7001934235976789\n",
      "AUC\n",
      "0.7937156837509572\n"
     ]
    },
    {
     "data": {
      "image/png": "[encoded data removed]",
      "text/plain": [
       "<Figure size 432x288 with 1 Axes>"
      ]
     },
     "metadata": {
      "needs_background": "light"
     },
     "output_type": "display_data"
    }
   ],
   "source": [
    "classifier = XGBClassifier(n_estimators = 1000).fit(X_train, y_train)\n",
    "y_pred     = classifier.predict(X_test)\n",
    "saca_metricas(y_test, y_pred)"
   ]
  },
  {
   "cell_type": "markdown",
   "metadata": {},
   "source": [
    "Muestro tambien el segundo mejor modelo porque vamos a necesitarle en futuros pasos."
   ]
  },
  {
   "cell_type": "code",
   "execution_count": 54,
   "metadata": {},
   "outputs": [
    {
     "name": "stdout",
     "output_type": "stream",
     "text": [
      "matriz de confusión\n",
      "[[26402   113]\n",
      " [  982  1144]]\n",
      "accuracy\n",
      "0.9617680946894313\n",
      "precision\n",
      "0.9101034208432777\n",
      "sensibilidad\n",
      "0.5380997177798683\n",
      "especificidad\n",
      "0.9957382613614935\n",
      "f1\n",
      "0.6763227904227017\n",
      "AUC\n",
      "0.7669189895706809\n"
     ]
    },
    {
     "data": {
      "image/png": "[encoded data removed]",
      "text/plain": [
       "<Figure size 432x288 with 1 Axes>"
      ]
     },
     "metadata": {
      "needs_background": "light"
     },
     "output_type": "display_data"
    }
   ],
   "source": [
    "classifier_ = RandomForestClassifier(max_depth = 8).fit(X_train, y_train)\n",
    "y_pred_    = classifier_.predict(X_test)\n",
    "saca_metricas(y_test, y_pred_)"
   ]
  },
  {
   "cell_type": "markdown",
   "metadata": {},
   "source": [
    "El algoritmo que mejor funciona ante este conjunto de datos es XGB. Obtiene un accuracy de 0.9621 y una precision de 0.8486, datos que parecen muy buenos. Respecto a la sensibilidad, como de bien clasifica los unos, obtenemos un resultado de 0.5959, este valor no es muy bueno, pero esto puede deberse a la cantidad de 0 y 1 que tiene nuestra base, están desbalancedados. Por el contrario, la especificidad que obtiene este modelo es muy alta, de un 0.9914, lo que quiere decir que practicamente clasifica bien todos los ceros. Esto se debe una vez más a la cantidad de 0 que tiene el modelo, ya que puede aprender muy bien su comportamiento. F1 arroja un resultado de 0.70, no es mal resultado pero si mejorara la capacidad predictiva de los 1, sería mucho mejor. Por último, la curva Roc arroja un resultado de 0.7937, casi un 80% de los datos se van a predecir de forma correcta, pero habría que mejorar la capacidad predictiva de los unos, ya que de ese porcentaje de ROC los mejores clasificados van a ser los 0."
   ]
  },
  {
   "cell_type": "markdown",
   "metadata": {},
   "source": [
    "## 5. Mejora del modelo"
   ]
  },
  {
   "cell_type": "markdown",
   "metadata": {},
   "source": [
    "**Feature Engineering**"
   ]
  },
  {
   "cell_type": "markdown",
   "metadata": {},
   "source": [
    "A continuación muestro y grafico las variables de nuestro tablón analitico."
   ]
  },
  {
   "cell_type": "code",
   "execution_count": 55,
   "metadata": {},
   "outputs": [
    {
     "name": "stdout",
     "output_type": "stream",
     "text": [
      "edad\n",
      "37    1721\n",
      "20    1671\n",
      "27    1653\n",
      "26    1644\n",
      "23    1641\n",
      "      ... \n",
      "63    1262\n",
      "85    1260\n",
      "59    1256\n",
      "48    1244\n",
      "84    1235\n",
      "Name: edad, Length: 68, dtype: int64\n",
      "facturacion\n",
      "310.914502    1\n",
      "92.482626     1\n",
      "193.323023    1\n",
      "48.654326     1\n",
      "118.845960    1\n",
      "             ..\n",
      "137.408794    1\n",
      "81.341921     1\n",
      "251.949354    1\n",
      "264.974536    1\n",
      "357.251060    1\n",
      "Name: facturacion, Length: 95467, dtype: int64\n",
      "provincia\n",
      "47    1991\n",
      "31    1986\n",
      "30    1973\n",
      "43    1972\n",
      "3     1972\n",
      "29    1967\n",
      "32    1958\n",
      "1     1954\n",
      "13    1949\n",
      "11    1945\n",
      "6     1939\n",
      "17    1936\n",
      "48    1932\n",
      "44    1931\n",
      "38    1928\n",
      "18    1924\n",
      "36    1922\n",
      "22    1921\n",
      "37    1917\n",
      "8     1915\n",
      "15    1914\n",
      "40    1913\n",
      "46    1913\n",
      "2     1912\n",
      "39    1909\n",
      "28    1907\n",
      "34    1907\n",
      "9     1905\n",
      "12    1902\n",
      "4     1900\n",
      "5     1899\n",
      "20    1899\n",
      "35    1898\n",
      "41    1898\n",
      "49    1893\n",
      "0     1889\n",
      "21    1888\n",
      "16    1881\n",
      "27    1879\n",
      "23    1877\n",
      "26    1871\n",
      "42    1869\n",
      "14    1864\n",
      "33    1860\n",
      "24    1860\n",
      "10    1855\n",
      "7     1853\n",
      "25    1851\n",
      "45    1838\n",
      "19    1831\n",
      "Name: provincia, dtype: int64\n",
      "num_lineas\n",
      "3    30013\n",
      "4    26619\n",
      "5    22797\n",
      "2    13186\n",
      "1     2852\n",
      "Name: num_lineas, dtype: int64\n",
      "num_dt\n",
      "0.0    90738\n",
      "4.0     1206\n",
      "1.0     1179\n",
      "2.0     1174\n",
      "3.0     1170\n",
      "Name: num_dt, dtype: int64\n",
      "incidencia\n",
      "0    91893\n",
      "1     3574\n",
      "Name: incidencia, dtype: int64\n",
      "num_llamad_ent\n",
      "43     439\n",
      "93     426\n",
      "114    424\n",
      "3      421\n",
      "108    417\n",
      "      ... \n",
      "60     344\n",
      "47     336\n",
      "166    327\n",
      "86     326\n",
      "81     325\n",
      "Name: num_llamad_ent, Length: 251, dtype: int64\n",
      "num_llamad_sal\n",
      "77    1041\n",
      "91    1012\n",
      "61    1010\n",
      "54    1003\n",
      "11     999\n",
      "      ... \n",
      "96     895\n",
      "92     882\n",
      "99     882\n",
      "24     881\n",
      "9      877\n",
      "Name: num_llamad_sal, Length: 101, dtype: int64\n",
      "mb_datos\n",
      "11098    16\n",
      "5958     15\n",
      "9064     14\n",
      "4603     13\n",
      "10406    13\n",
      "         ..\n",
      "5018      1\n",
      "19345     1\n",
      "856       1\n",
      "23379     1\n",
      "0         1\n",
      "Name: mb_datos, Length: 24456, dtype: int64\n",
      "seg_llamad_ent\n",
      "0        356\n",
      "3886      15\n",
      "10308     14\n",
      "7727      14\n",
      "6959      14\n",
      "        ... \n",
      "17410      1\n",
      "9230       1\n",
      "3057       1\n",
      "19523      1\n",
      "8265       1\n",
      "Name: seg_llamad_ent, Length: 19829, dtype: int64\n",
      "seg_llamad_sal\n",
      "0        949\n",
      "10968     16\n",
      "18443     15\n",
      "18060     14\n",
      "5010      14\n",
      "        ... \n",
      "18121      1\n",
      "15380      1\n",
      "19743      1\n",
      "1302       1\n",
      "652        1\n",
      "Name: seg_llamad_sal, Length: 19821, dtype: int64\n",
      "financiacion\n",
      "0    89095\n",
      "1     6372\n",
      "Name: financiacion, dtype: int64\n",
      "imp_financ\n",
      "0.000000     89095\n",
      "14.699348        1\n",
      "23.421005        1\n",
      "13.844082        1\n",
      "32.902067        1\n",
      "             ...  \n",
      "11.892161        1\n",
      "14.180035        1\n",
      "11.722279        1\n",
      "27.875632        1\n",
      "18.244224        1\n",
      "Name: imp_financ, Length: 6373, dtype: int64\n",
      "descuentos\n",
      "0    76313\n",
      "1    19154\n",
      "Name: descuentos, dtype: int64\n",
      "conexion\n",
      "1    48630\n",
      "2    46837\n",
      "Name: conexion, dtype: int64\n",
      "vel_conexion\n",
      "200    9681\n",
      "600    9622\n",
      "50     9474\n",
      "300    9460\n",
      "100    9332\n",
      "20     8113\n",
      "25     8112\n",
      "10     7969\n",
      "30     7948\n",
      "35     7947\n",
      "15     7809\n",
      "Name: vel_conexion, dtype: int64\n",
      "TV\n",
      "1    49634\n",
      "2    32746\n",
      "3    13087\n",
      "Name: TV, dtype: int64\n",
      "target\n",
      "0    88382\n",
      "1     7085\n",
      "Name: target, dtype: int64\n",
      "antig\n",
      "3500    24\n",
      "5436    24\n",
      "4064    24\n",
      "3156    23\n",
      "7039    23\n",
      "        ..\n",
      "948      2\n",
      "3983     2\n",
      "0        2\n",
      "8150     1\n",
      "3883     1\n",
      "Name: antig, Length: 9131, dtype: int64\n"
     ]
    }
   ],
   "source": [
    "for i in df_dic.columns:\n",
    "    print(i)\n",
    "    print(df_dic[i].value_counts())"
   ]
  },
  {
   "cell_type": "code",
   "execution_count": 56,
   "metadata": {},
   "outputs": [
    {
     "data": {
      "image/png": "[encoded data removed]",
      "text/plain": [
       "<Figure size 432x288 with 1 Axes>"
      ]
     },
     "metadata": {
      "needs_background": "light"
     },
     "output_type": "display_data"
    },
    {
     "data": {
      "image/png": "[encoded data removed]",
      "text/plain": [
       "<Figure size 432x288 with 1 Axes>"
      ]
     },
     "metadata": {
      "needs_background": "light"
     },
     "output_type": "display_data"
    },
    {
     "data": {
      "image/png": "[encoded data removed]",
      "text/plain": [
       "<Figure size 432x288 with 1 Axes>"
      ]
     },
     "metadata": {
      "needs_background": "light"
     },
     "output_type": "display_data"
    },
    {
     "data": {
      "image/png": "[encoded data removed]",
      "text/plain": [
       "<Figure size 432x288 with 1 Axes>"
      ]
     },
     "metadata": {
      "needs_background": "light"
     },
     "output_type": "display_data"
    },
    {
     "data": {
      "image/png": "[encoded data removed]",
      "text/plain": [
       "<Figure size 432x288 with 1 Axes>"
      ]
     },
     "metadata": {
      "needs_background": "light"
     },
     "output_type": "display_data"
    },
    {
     "data": {
      "image/png": "[encoded data removed]",
      "text/plain": [
       "<Figure size 432x288 with 1 Axes>"
      ]
     },
     "metadata": {
      "needs_background": "light"
     },
     "output_type": "display_data"
    },
    {
     "data": {
      "image/png": "[encoded data removed]",
      "text/plain": [
       "<Figure size 432x288 with 1 Axes>"
      ]
     },
     "metadata": {
      "needs_background": "light"
     },
     "output_type": "display_data"
    },
    {
     "data": {
      "image/png": "[encoded data removed]",
      "text/plain": [
       "<Figure size 432x288 with 1 Axes>"
      ]
     },
     "metadata": {
      "needs_background": "light"
     },
     "output_type": "display_data"
    },
    {
     "data": {
      "image/png": "[encoded data removed]",
      "text/plain": [
       "<Figure size 432x288 with 1 Axes>"
      ]
     },
     "metadata": {
      "needs_background": "light"
     },
     "output_type": "display_data"
    },
    {
     "data": {
      "image/png": "[encoded data removed]",
      "text/plain": [
       "<Figure size 432x288 with 1 Axes>"
      ]
     },
     "metadata": {
      "needs_background": "light"
     },
     "output_type": "display_data"
    },
    {
     "data": {
      "image/png": "[encoded data removed]",
      "text/plain": [
       "<Figure size 432x288 with 1 Axes>"
      ]
     },
     "metadata": {
      "needs_background": "light"
     },
     "output_type": "display_data"
    },
    {
     "data": {
      "image/png": "[encoded data removed]",
      "text/plain": [
       "<Figure size 432x288 with 1 Axes>"
      ]
     },
     "metadata": {
      "needs_background": "light"
     },
     "output_type": "display_data"
    },
    {
     "data": {
      "image/png": "[encoded data removed]",
      "text/plain": [
       "<Figure size 432x288 with 1 Axes>"
      ]
     },
     "metadata": {
      "needs_background": "light"
     },
     "output_type": "display_data"
    },
    {
     "data": {
      "image/png": "[encoded data removed]",
      "text/plain": [
       "<Figure size 432x288 with 1 Axes>"
      ]
     },
     "metadata": {
      "needs_background": "light"
     },
     "output_type": "display_data"
    },
    {
     "data": {
      "image/png": "[encoded data removed]",
      "text/plain": [
       "<Figure size 432x288 with 1 Axes>"
      ]
     },
     "metadata": {
      "needs_background": "light"
     },
     "output_type": "display_data"
    },
    {
     "data": {
      "image/png": "[encoded data removed]",
      "text/plain": [
       "<Figure size 432x288 with 1 Axes>"
      ]
     },
     "metadata": {
      "needs_background": "light"
     },
     "output_type": "display_data"
    },
    {
     "data": {
      "image/png": "[encoded data removed]",
      "text/plain": [
       "<Figure size 432x288 with 1 Axes>"
      ]
     },
     "metadata": {
      "needs_background": "light"
     },
     "output_type": "display_data"
    },
    {
     "data": {
      "image/png": "[encoded data removed]",
      "text/plain": [
       "<Figure size 432x288 with 1 Axes>"
      ]
     },
     "metadata": {
      "needs_background": "light"
     },
     "output_type": "display_data"
    }
   ],
   "source": [
    "lista_numericas=['edad', 'facturacion', 'provincia', 'num_lineas', 'num_dt',\n",
    "                'incidencia', 'num_llamad_ent', 'num_llamad_sal', 'mb_datos',\n",
    "                'seg_llamad_ent', 'seg_llamad_sal', 'financiacion', 'imp_financ',\n",
    "                'descuentos', 'conexion', 'vel_conexion', 'TV', 'antig']\n",
    "for l in lista_numericas:\n",
    "    plt.hist(df_dic[l])\n",
    "    plt.title(l)\n",
    "    plt.show()"
   ]
  },
  {
   "cell_type": "markdown",
   "metadata": {},
   "source": [
    "*Edad*: hacemos dos tramos, los jóvenes y los adultos"
   ]
  },
  {
   "cell_type": "code",
   "execution_count": 57,
   "metadata": {},
   "outputs": [
    {
     "data": {
      "text/plain": [
       "<matplotlib.axes._subplots.AxesSubplot at 0x23e62fdffd0>"
      ]
     },
     "execution_count": 57,
     "metadata": {},
     "output_type": "execute_result"
    },
    {
     "data": {
      "image/png": "[encoded data removed]",
      "text/plain": [
       "<Figure size 864x504 with 1 Axes>"
      ]
     },
     "metadata": {
      "needs_background": "light"
     },
     "output_type": "display_data"
    }
   ],
   "source": [
    "plt.figure(figsize=(12, 7))\n",
    "sns.boxplot(x='target',y='edad',data=df_dic,palette='rainbow')"
   ]
  },
  {
   "cell_type": "markdown",
   "metadata": {},
   "source": [
    "Vamos a tramear la variable edaden dos grupos: los menores de 32 y los mayores de 32. Así como crear una variable dummie que sea 1 si la persona es menor de 32 años y 0 si es mayor."
   ]
  },
  {
   "cell_type": "code",
   "execution_count": 58,
   "metadata": {},
   "outputs": [],
   "source": [
    "df_dic['age_joven'] = df_dic['edad'].apply(lambda x: 1 if x<=32 else 0)\n",
    "df_dic['age_adulto'] = df_dic['edad'].apply(lambda x: 1 if x>32 & x<60 else 0)\n",
    "df_dic['age_new'] = df_dic['edad'].apply(lambda x: 1 if x<=32 else 0)"
   ]
  },
  {
   "cell_type": "markdown",
   "metadata": {},
   "source": [
    "*vel_conexion*: tramificar la variable vel_conexion en 0-200,200-400 y 400-600"
   ]
  },
  {
   "cell_type": "code",
   "execution_count": 59,
   "metadata": {},
   "outputs": [],
   "source": [
    "df_dic['vel_conex_new'] = df_dic['vel_conexion'].apply(lambda x: 0 if x<200 else (2 if x>=400 else(1)))"
   ]
  },
  {
   "cell_type": "markdown",
   "metadata": {},
   "source": [
    "*num_lineas*: creo una nueva variable a partir de la  de numero de lineas dividiendo a los clientes que tienen menos de 2 lineas de los que tienen entre 2 y 4 lineas y los que tienen más de 4. Es por esto, por lo que los 'valores atipicos' los he introducido en 5 lineas."
   ]
  },
  {
   "cell_type": "code",
   "execution_count": 60,
   "metadata": {},
   "outputs": [],
   "source": [
    "df_dic['num_lin_new'] = df_dic['num_lineas'].apply(lambda x: 0 if x<2 else (1 if x>=2 and x<4 else(2)))"
   ]
  },
  {
   "cell_type": "markdown",
   "metadata": {},
   "source": [
    "*num_dt*: creo una variable a partir de num_dt que recoja si el cliente tiene lineas en impago (1) o no (0)."
   ]
  },
  {
   "cell_type": "code",
   "execution_count": 61,
   "metadata": {},
   "outputs": [],
   "source": [
    "df_dic['lin_impag'] = df_dic['num_dt'].apply(lambda x: 0 if x==0 else (1))"
   ]
  },
  {
   "cell_type": "markdown",
   "metadata": {},
   "source": [
    "*TV*: creo variables dummies de cada categoría de esta variable."
   ]
  },
  {
   "cell_type": "code",
   "execution_count": 62,
   "metadata": {},
   "outputs": [],
   "source": [
    "df_dic['tv_futbol'] = df_dic['TV'].apply(lambda x: 1 if x==1 else 0)\n",
    "df_dic['tv_familiar'] = df_dic['TV'].apply(lambda x: 1 if x==2 else 0)\n",
    "df_dic['tv_total'] = df_dic['TV'].apply(lambda x: 1 if x==3 else 0)"
   ]
  },
  {
   "cell_type": "markdown",
   "metadata": {},
   "source": [
    "*conexion*: creo variables dummies de cada categoría de esta variable"
   ]
  },
  {
   "cell_type": "code",
   "execution_count": 63,
   "metadata": {},
   "outputs": [],
   "source": [
    "df_dic['ADSL'] = df_dic['conexion'].apply(lambda x: 1 if x==1 else 0)\n",
    "df_dic['FIBRA'] = df_dic['conexion'].apply(lambda x: 1 if x==2 else 0)"
   ]
  },
  {
   "cell_type": "markdown",
   "metadata": {},
   "source": [
    "**Modelo con las nuevas variables**"
   ]
  },
  {
   "cell_type": "code",
   "execution_count": 64,
   "metadata": {},
   "outputs": [],
   "source": [
    "columnas = ['edad', 'facturacion', 'provincia', 'num_lineas', 'num_dt',\n",
    "       'incidencia', 'num_llamad_ent', 'num_llamad_sal', 'mb_datos',\n",
    "       'seg_llamad_ent', 'seg_llamad_sal', 'financiacion', 'imp_financ',\n",
    "       'descuentos', 'conexion', 'vel_conexion', 'TV', 'antig',\n",
    "       'age_joven', 'age_adulto', 'age_new', 'vel_conex_new', 'num_lin_new',\n",
    "       'lin_impag', 'tv_futbol', 'tv_familiar', 'tv_total', 'ADSL', 'FIBRA']\n",
    "df_final2 = df_dic[columnas]"
   ]
  },
  {
   "cell_type": "markdown",
   "metadata": {},
   "source": [
    "Hacemos una nueva partición con nuestras nuevas variables:"
   ]
  },
  {
   "cell_type": "code",
   "execution_count": 65,
   "metadata": {},
   "outputs": [],
   "source": [
    "X_train, X_test, y_train, y_test = train_test_split(df_final2,\n",
    "                                                    y,\n",
    "                                                    test_size=0.3,\n",
    "                                                    random_state=42,\n",
    "                                                    stratify = y)"
   ]
  },
  {
   "cell_type": "markdown",
   "metadata": {},
   "source": [
    "Y aplicamos el modelo ganador de los modelos iniciales:"
   ]
  },
  {
   "cell_type": "code",
   "execution_count": 66,
   "metadata": {},
   "outputs": [
    {
     "name": "stderr",
     "output_type": "stream",
     "text": [
      "C:\\Users\\nerea\\anaconda3\\lib\\site-packages\\xgboost\\sklearn.py:888: UserWarning: The use of label encoder in XGBClassifier is deprecated and will be removed in a future release. To remove this warning, do the following: 1) Pass option use_label_encoder=False when constructing XGBClassifier object; and 2) Encode your labels (y) as integers starting with 0, i.e. 0, 1, 2, ..., [num_class - 1].\n",
      "  warnings.warn(label_encoder_deprecation_msg, UserWarning)\n"
     ]
    },
    {
     "name": "stdout",
     "output_type": "stream",
     "text": [
      "[10:37:16] WARNING: C:/Users/Administrator/workspace/xgboost-win64_release_1.3.0/src/learner.cc:1061: Starting in XGBoost 1.3.0, the default evaluation metric used with the objective 'binary:logistic' was changed from 'error' to 'logloss'. Explicitly set eval_metric if you'd like to restore the old behavior.\n",
      "matriz de confusión\n",
      "[[26280   235]\n",
      " [  851  1275]]\n",
      "accuracy\n",
      "0.9620823295276003\n",
      "precision\n",
      "0.8443708609271523\n",
      "sensibilidad\n",
      "0.5997177798682972\n",
      "especificidad\n",
      "0.9911370922119555\n",
      "f1\n",
      "0.7013201320132013\n",
      "AUC\n",
      "0.7954274360401263\n"
     ]
    },
    {
     "data": {
      "image/png": "[encoded data removed]",
      "text/plain": [
       "<Figure size 432x288 with 1 Axes>"
      ]
     },
     "metadata": {
      "needs_background": "light"
     },
     "output_type": "display_data"
    }
   ],
   "source": [
    "classifier1 = XGBClassifier(n_estimators = 1000).fit(X_train, y_train)\n",
    "y_pred1     = classifier1.predict(X_test)\n",
    "saca_metricas(y_test, y_pred1)"
   ]
  },
  {
   "cell_type": "markdown",
   "metadata": {},
   "source": [
    "**Selección de variables**"
   ]
  },
  {
   "cell_type": "markdown",
   "metadata": {},
   "source": [
    "A continuación mostramos la lista de las variables según la correlación que tienen con la variable objetivo."
   ]
  },
  {
   "cell_type": "code",
   "execution_count": 67,
   "metadata": {
    "scrolled": true
   },
   "outputs": [
    {
     "data": {
      "text/html": [
       "<style  type=\"text/css\" >\n",
       "    #T_527f85d8_7ccd_11eb_bc2f_f8a2d6f1181crow0_col0 {\n",
       "            background-color:  #023858;\n",
       "            color:  #f1f1f1;\n",
       "        }    #T_527f85d8_7ccd_11eb_bc2f_f8a2d6f1181crow1_col0 {\n",
       "            background-color:  #b0c2de;\n",
       "            color:  #000000;\n",
       "        }    #T_527f85d8_7ccd_11eb_bc2f_f8a2d6f1181crow2_col0 {\n",
       "            background-color:  #bbc7e0;\n",
       "            color:  #000000;\n",
       "        }    #T_527f85d8_7ccd_11eb_bc2f_f8a2d6f1181crow3_col0 {\n",
       "            background-color:  #c1cae2;\n",
       "            color:  #000000;\n",
       "        }    #T_527f85d8_7ccd_11eb_bc2f_f8a2d6f1181crow4_col0 {\n",
       "            background-color:  #c8cde4;\n",
       "            color:  #000000;\n",
       "        }    #T_527f85d8_7ccd_11eb_bc2f_f8a2d6f1181crow5_col0 {\n",
       "            background-color:  #cdd0e5;\n",
       "            color:  #000000;\n",
       "        }    #T_527f85d8_7ccd_11eb_bc2f_f8a2d6f1181crow6_col0 {\n",
       "            background-color:  #cdd0e5;\n",
       "            color:  #000000;\n",
       "        }    #T_527f85d8_7ccd_11eb_bc2f_f8a2d6f1181crow7_col0 {\n",
       "            background-color:  #e5e1ef;\n",
       "            color:  #000000;\n",
       "        }    #T_527f85d8_7ccd_11eb_bc2f_f8a2d6f1181crow8_col0 {\n",
       "            background-color:  #e6e2ef;\n",
       "            color:  #000000;\n",
       "        }    #T_527f85d8_7ccd_11eb_bc2f_f8a2d6f1181crow9_col0 {\n",
       "            background-color:  #e8e4f0;\n",
       "            color:  #000000;\n",
       "        }    #T_527f85d8_7ccd_11eb_bc2f_f8a2d6f1181crow10_col0 {\n",
       "            background-color:  #eee9f3;\n",
       "            color:  #000000;\n",
       "        }    #T_527f85d8_7ccd_11eb_bc2f_f8a2d6f1181crow11_col0 {\n",
       "            background-color:  #f3edf5;\n",
       "            color:  #000000;\n",
       "        }    #T_527f85d8_7ccd_11eb_bc2f_f8a2d6f1181crow12_col0 {\n",
       "            background-color:  #f4edf6;\n",
       "            color:  #000000;\n",
       "        }    #T_527f85d8_7ccd_11eb_bc2f_f8a2d6f1181crow13_col0 {\n",
       "            background-color:  #f5eef6;\n",
       "            color:  #000000;\n",
       "        }    #T_527f85d8_7ccd_11eb_bc2f_f8a2d6f1181crow14_col0 {\n",
       "            background-color:  #f7f0f7;\n",
       "            color:  #000000;\n",
       "        }    #T_527f85d8_7ccd_11eb_bc2f_f8a2d6f1181crow15_col0 {\n",
       "            background-color:  #f7f0f7;\n",
       "            color:  #000000;\n",
       "        }    #T_527f85d8_7ccd_11eb_bc2f_f8a2d6f1181crow16_col0 {\n",
       "            background-color:  #f7f0f7;\n",
       "            color:  #000000;\n",
       "        }    #T_527f85d8_7ccd_11eb_bc2f_f8a2d6f1181crow17_col0 {\n",
       "            background-color:  #f7f0f7;\n",
       "            color:  #000000;\n",
       "        }    #T_527f85d8_7ccd_11eb_bc2f_f8a2d6f1181crow18_col0 {\n",
       "            background-color:  #fef6fb;\n",
       "            color:  #000000;\n",
       "        }    #T_527f85d8_7ccd_11eb_bc2f_f8a2d6f1181crow19_col0 {\n",
       "            background-color:  #fef6fb;\n",
       "            color:  #000000;\n",
       "        }    #T_527f85d8_7ccd_11eb_bc2f_f8a2d6f1181crow20_col0 {\n",
       "            background-color:  #fff7fb;\n",
       "            color:  #000000;\n",
       "        }    #T_527f85d8_7ccd_11eb_bc2f_f8a2d6f1181crow21_col0 {\n",
       "            background-color:  #fff7fb;\n",
       "            color:  #000000;\n",
       "        }    #T_527f85d8_7ccd_11eb_bc2f_f8a2d6f1181crow22_col0 {\n",
       "            background-color:  #fff7fb;\n",
       "            color:  #000000;\n",
       "        }    #T_527f85d8_7ccd_11eb_bc2f_f8a2d6f1181crow23_col0 {\n",
       "            background-color:  #fff7fb;\n",
       "            color:  #000000;\n",
       "        }    #T_527f85d8_7ccd_11eb_bc2f_f8a2d6f1181crow24_col0 {\n",
       "            background-color:  #fff7fb;\n",
       "            color:  #000000;\n",
       "        }    #T_527f85d8_7ccd_11eb_bc2f_f8a2d6f1181crow25_col0 {\n",
       "            background-color:  #fff7fb;\n",
       "            color:  #000000;\n",
       "        }    #T_527f85d8_7ccd_11eb_bc2f_f8a2d6f1181crow26_col0 {\n",
       "            background-color:  #fff7fb;\n",
       "            color:  #000000;\n",
       "        }    #T_527f85d8_7ccd_11eb_bc2f_f8a2d6f1181crow27_col0 {\n",
       "            background-color:  #fff7fb;\n",
       "            color:  #000000;\n",
       "        }    #T_527f85d8_7ccd_11eb_bc2f_f8a2d6f1181crow28_col0 {\n",
       "            background-color:  #fff7fb;\n",
       "            color:  #000000;\n",
       "        }    #T_527f85d8_7ccd_11eb_bc2f_f8a2d6f1181crow29_col0 {\n",
       "            background-color:  #fff7fb;\n",
       "            color:  #000000;\n",
       "        }</style><table id=\"T_527f85d8_7ccd_11eb_bc2f_f8a2d6f1181c\" ><thead>    <tr>        <th class=\"blank level0\" ></th>        <th class=\"col_heading level0 col0\" >target</th>    </tr></thead><tbody>\n",
       "                <tr>\n",
       "                        <th id=\"T_527f85d8_7ccd_11eb_bc2f_f8a2d6f1181clevel0_row0\" class=\"row_heading level0 row0\" >target</th>\n",
       "                        <td id=\"T_527f85d8_7ccd_11eb_bc2f_f8a2d6f1181crow0_col0\" class=\"data row0 col0\" >1.000000</td>\n",
       "            </tr>\n",
       "            <tr>\n",
       "                        <th id=\"T_527f85d8_7ccd_11eb_bc2f_f8a2d6f1181clevel0_row1\" class=\"row_heading level0 row1\" >lin_impag</th>\n",
       "                        <td id=\"T_527f85d8_7ccd_11eb_bc2f_f8a2d6f1181crow1_col0\" class=\"data row1 col0\" >0.346618</td>\n",
       "            </tr>\n",
       "            <tr>\n",
       "                        <th id=\"T_527f85d8_7ccd_11eb_bc2f_f8a2d6f1181clevel0_row2\" class=\"row_heading level0 row2\" >num_dt</th>\n",
       "                        <td id=\"T_527f85d8_7ccd_11eb_bc2f_f8a2d6f1181crow2_col0\" class=\"data row2 col0\" >0.312795</td>\n",
       "            </tr>\n",
       "            <tr>\n",
       "                        <th id=\"T_527f85d8_7ccd_11eb_bc2f_f8a2d6f1181clevel0_row3\" class=\"row_heading level0 row3\" >edad</th>\n",
       "                        <td id=\"T_527f85d8_7ccd_11eb_bc2f_f8a2d6f1181crow3_col0\" class=\"data row3 col0\" >0.296835</td>\n",
       "            </tr>\n",
       "            <tr>\n",
       "                        <th id=\"T_527f85d8_7ccd_11eb_bc2f_f8a2d6f1181clevel0_row4\" class=\"row_heading level0 row4\" >incidencia</th>\n",
       "                        <td id=\"T_527f85d8_7ccd_11eb_bc2f_f8a2d6f1181crow4_col0\" class=\"data row4 col0\" >0.277408</td>\n",
       "            </tr>\n",
       "            <tr>\n",
       "                        <th id=\"T_527f85d8_7ccd_11eb_bc2f_f8a2d6f1181clevel0_row5\" class=\"row_heading level0 row5\" >age_new</th>\n",
       "                        <td id=\"T_527f85d8_7ccd_11eb_bc2f_f8a2d6f1181crow5_col0\" class=\"data row5 col0\" >0.261045</td>\n",
       "            </tr>\n",
       "            <tr>\n",
       "                        <th id=\"T_527f85d8_7ccd_11eb_bc2f_f8a2d6f1181clevel0_row6\" class=\"row_heading level0 row6\" >age_joven</th>\n",
       "                        <td id=\"T_527f85d8_7ccd_11eb_bc2f_f8a2d6f1181crow6_col0\" class=\"data row6 col0\" >0.261045</td>\n",
       "            </tr>\n",
       "            <tr>\n",
       "                        <th id=\"T_527f85d8_7ccd_11eb_bc2f_f8a2d6f1181clevel0_row7\" class=\"row_heading level0 row7\" >TV</th>\n",
       "                        <td id=\"T_527f85d8_7ccd_11eb_bc2f_f8a2d6f1181crow7_col0\" class=\"data row7 col0\" >0.160122</td>\n",
       "            </tr>\n",
       "            <tr>\n",
       "                        <th id=\"T_527f85d8_7ccd_11eb_bc2f_f8a2d6f1181clevel0_row8\" class=\"row_heading level0 row8\" >tv_futbol</th>\n",
       "                        <td id=\"T_527f85d8_7ccd_11eb_bc2f_f8a2d6f1181crow8_col0\" class=\"data row8 col0\" >0.152493</td>\n",
       "            </tr>\n",
       "            <tr>\n",
       "                        <th id=\"T_527f85d8_7ccd_11eb_bc2f_f8a2d6f1181clevel0_row9\" class=\"row_heading level0 row9\" >descuentos</th>\n",
       "                        <td id=\"T_527f85d8_7ccd_11eb_bc2f_f8a2d6f1181crow9_col0\" class=\"data row9 col0\" >0.141447</td>\n",
       "            </tr>\n",
       "            <tr>\n",
       "                        <th id=\"T_527f85d8_7ccd_11eb_bc2f_f8a2d6f1181clevel0_row10\" class=\"row_heading level0 row10\" >tv_total</th>\n",
       "                        <td id=\"T_527f85d8_7ccd_11eb_bc2f_f8a2d6f1181crow10_col0\" class=\"data row10 col0\" >0.111106</td>\n",
       "            </tr>\n",
       "            <tr>\n",
       "                        <th id=\"T_527f85d8_7ccd_11eb_bc2f_f8a2d6f1181clevel0_row11\" class=\"row_heading level0 row11\" >tv_familiar</th>\n",
       "                        <td id=\"T_527f85d8_7ccd_11eb_bc2f_f8a2d6f1181crow11_col0\" class=\"data row11 col0\" >0.079990</td>\n",
       "            </tr>\n",
       "            <tr>\n",
       "                        <th id=\"T_527f85d8_7ccd_11eb_bc2f_f8a2d6f1181clevel0_row12\" class=\"row_heading level0 row12\" >financiacion</th>\n",
       "                        <td id=\"T_527f85d8_7ccd_11eb_bc2f_f8a2d6f1181crow12_col0\" class=\"data row12 col0\" >0.074597</td>\n",
       "            </tr>\n",
       "            <tr>\n",
       "                        <th id=\"T_527f85d8_7ccd_11eb_bc2f_f8a2d6f1181clevel0_row13\" class=\"row_heading level0 row13\" >imp_financ</th>\n",
       "                        <td id=\"T_527f85d8_7ccd_11eb_bc2f_f8a2d6f1181crow13_col0\" class=\"data row13 col0\" >0.067626</td>\n",
       "            </tr>\n",
       "            <tr>\n",
       "                        <th id=\"T_527f85d8_7ccd_11eb_bc2f_f8a2d6f1181clevel0_row14\" class=\"row_heading level0 row14\" >age_adulto</th>\n",
       "                        <td id=\"T_527f85d8_7ccd_11eb_bc2f_f8a2d6f1181crow14_col0\" class=\"data row14 col0\" >0.055874</td>\n",
       "            </tr>\n",
       "            <tr>\n",
       "                        <th id=\"T_527f85d8_7ccd_11eb_bc2f_f8a2d6f1181clevel0_row15\" class=\"row_heading level0 row15\" >ADSL</th>\n",
       "                        <td id=\"T_527f85d8_7ccd_11eb_bc2f_f8a2d6f1181crow15_col0\" class=\"data row15 col0\" >0.051478</td>\n",
       "            </tr>\n",
       "            <tr>\n",
       "                        <th id=\"T_527f85d8_7ccd_11eb_bc2f_f8a2d6f1181clevel0_row16\" class=\"row_heading level0 row16\" >FIBRA</th>\n",
       "                        <td id=\"T_527f85d8_7ccd_11eb_bc2f_f8a2d6f1181crow16_col0\" class=\"data row16 col0\" >0.051478</td>\n",
       "            </tr>\n",
       "            <tr>\n",
       "                        <th id=\"T_527f85d8_7ccd_11eb_bc2f_f8a2d6f1181clevel0_row17\" class=\"row_heading level0 row17\" >conexion</th>\n",
       "                        <td id=\"T_527f85d8_7ccd_11eb_bc2f_f8a2d6f1181crow17_col0\" class=\"data row17 col0\" >0.051478</td>\n",
       "            </tr>\n",
       "            <tr>\n",
       "                        <th id=\"T_527f85d8_7ccd_11eb_bc2f_f8a2d6f1181clevel0_row18\" class=\"row_heading level0 row18\" >provincia</th>\n",
       "                        <td id=\"T_527f85d8_7ccd_11eb_bc2f_f8a2d6f1181crow18_col0\" class=\"data row18 col0\" >0.006305</td>\n",
       "            </tr>\n",
       "            <tr>\n",
       "                        <th id=\"T_527f85d8_7ccd_11eb_bc2f_f8a2d6f1181clevel0_row19\" class=\"row_heading level0 row19\" >num_llamad_ent</th>\n",
       "                        <td id=\"T_527f85d8_7ccd_11eb_bc2f_f8a2d6f1181crow19_col0\" class=\"data row19 col0\" >0.006130</td>\n",
       "            </tr>\n",
       "            <tr>\n",
       "                        <th id=\"T_527f85d8_7ccd_11eb_bc2f_f8a2d6f1181clevel0_row20\" class=\"row_heading level0 row20\" >antig</th>\n",
       "                        <td id=\"T_527f85d8_7ccd_11eb_bc2f_f8a2d6f1181crow20_col0\" class=\"data row20 col0\" >0.003146</td>\n",
       "            </tr>\n",
       "            <tr>\n",
       "                        <th id=\"T_527f85d8_7ccd_11eb_bc2f_f8a2d6f1181clevel0_row21\" class=\"row_heading level0 row21\" >num_llamad_sal</th>\n",
       "                        <td id=\"T_527f85d8_7ccd_11eb_bc2f_f8a2d6f1181crow21_col0\" class=\"data row21 col0\" >0.003141</td>\n",
       "            </tr>\n",
       "            <tr>\n",
       "                        <th id=\"T_527f85d8_7ccd_11eb_bc2f_f8a2d6f1181clevel0_row22\" class=\"row_heading level0 row22\" >facturacion</th>\n",
       "                        <td id=\"T_527f85d8_7ccd_11eb_bc2f_f8a2d6f1181crow22_col0\" class=\"data row22 col0\" >0.002846</td>\n",
       "            </tr>\n",
       "            <tr>\n",
       "                        <th id=\"T_527f85d8_7ccd_11eb_bc2f_f8a2d6f1181clevel0_row23\" class=\"row_heading level0 row23\" >vel_conex_new</th>\n",
       "                        <td id=\"T_527f85d8_7ccd_11eb_bc2f_f8a2d6f1181crow23_col0\" class=\"data row23 col0\" >0.002783</td>\n",
       "            </tr>\n",
       "            <tr>\n",
       "                        <th id=\"T_527f85d8_7ccd_11eb_bc2f_f8a2d6f1181clevel0_row24\" class=\"row_heading level0 row24\" >vel_conexion</th>\n",
       "                        <td id=\"T_527f85d8_7ccd_11eb_bc2f_f8a2d6f1181crow24_col0\" class=\"data row24 col0\" >0.002482</td>\n",
       "            </tr>\n",
       "            <tr>\n",
       "                        <th id=\"T_527f85d8_7ccd_11eb_bc2f_f8a2d6f1181clevel0_row25\" class=\"row_heading level0 row25\" >num_lin_new</th>\n",
       "                        <td id=\"T_527f85d8_7ccd_11eb_bc2f_f8a2d6f1181crow25_col0\" class=\"data row25 col0\" >0.001846</td>\n",
       "            </tr>\n",
       "            <tr>\n",
       "                        <th id=\"T_527f85d8_7ccd_11eb_bc2f_f8a2d6f1181clevel0_row26\" class=\"row_heading level0 row26\" >num_lineas</th>\n",
       "                        <td id=\"T_527f85d8_7ccd_11eb_bc2f_f8a2d6f1181crow26_col0\" class=\"data row26 col0\" >0.001741</td>\n",
       "            </tr>\n",
       "            <tr>\n",
       "                        <th id=\"T_527f85d8_7ccd_11eb_bc2f_f8a2d6f1181clevel0_row27\" class=\"row_heading level0 row27\" >mb_datos</th>\n",
       "                        <td id=\"T_527f85d8_7ccd_11eb_bc2f_f8a2d6f1181crow27_col0\" class=\"data row27 col0\" >0.001201</td>\n",
       "            </tr>\n",
       "            <tr>\n",
       "                        <th id=\"T_527f85d8_7ccd_11eb_bc2f_f8a2d6f1181clevel0_row28\" class=\"row_heading level0 row28\" >seg_llamad_sal</th>\n",
       "                        <td id=\"T_527f85d8_7ccd_11eb_bc2f_f8a2d6f1181crow28_col0\" class=\"data row28 col0\" >0.000213</td>\n",
       "            </tr>\n",
       "            <tr>\n",
       "                        <th id=\"T_527f85d8_7ccd_11eb_bc2f_f8a2d6f1181clevel0_row29\" class=\"row_heading level0 row29\" >seg_llamad_ent</th>\n",
       "                        <td id=\"T_527f85d8_7ccd_11eb_bc2f_f8a2d6f1181crow29_col0\" class=\"data row29 col0\" >0.000139</td>\n",
       "            </tr>\n",
       "    </tbody></table>"
      ],
      "text/plain": [
       "<pandas.io.formats.style.Styler at 0x23e696e6c40>"
      ]
     },
     "execution_count": 67,
     "metadata": {},
     "output_type": "execute_result"
    }
   ],
   "source": [
    "corr = abs(df_dic.corr())\n",
    "corr[['target']].sort_values(by = 'target',ascending = False).style.background_gradient()"
   ]
  },
  {
   "cell_type": "markdown",
   "metadata": {},
   "source": [
    "Y hacemos una selección de variables que nos muestre cuales son las 15, 10 y 5 mejores variables que introducir al modelo."
   ]
  },
  {
   "cell_type": "code",
   "execution_count": 68,
   "metadata": {},
   "outputs": [
    {
     "name": "stdout",
     "output_type": "stream",
     "text": [
      "['TV', 'age_joven', 'age_new', 'antig', 'descuentos', 'edad', 'financiacion', 'imp_financ', 'incidencia', 'lin_impag', 'mb_datos', 'num_dt', 'target', 'tv_familiar', 'tv_futbol', 'tv_total']\n"
     ]
    }
   ],
   "source": [
    "S_chi5 = SelectKBest(chi2, k = 16)\n",
    "X_chi5 = S_chi5.fit_transform(df_dic, df_dic['target'])\n",
    "\n",
    "variables = list(np.asarray(list(df_dic))[S_chi5.get_support()])\n",
    "variables.sort()\n",
    "print(variables)"
   ]
  },
  {
   "cell_type": "code",
   "execution_count": 69,
   "metadata": {},
   "outputs": [
    {
     "name": "stdout",
     "output_type": "stream",
     "text": [
      "['age_joven', 'age_new', 'antig', 'descuentos', 'edad', 'imp_financ', 'incidencia', 'lin_impag', 'num_dt', 'target', 'tv_futbol']\n"
     ]
    }
   ],
   "source": [
    "S_chi5 = SelectKBest(chi2, k = 11)\n",
    "X_chi5 = S_chi5.fit_transform(df_dic, df_dic['target'])\n",
    "\n",
    "variables = list(np.asarray(list(df_dic))[S_chi5.get_support()])\n",
    "variables.sort()\n",
    "print(variables)"
   ]
  },
  {
   "cell_type": "code",
   "execution_count": 70,
   "metadata": {},
   "outputs": [
    {
     "name": "stdout",
     "output_type": "stream",
     "text": [
      "['edad', 'imp_financ', 'incidencia', 'lin_impag', 'num_dt', 'target']\n"
     ]
    }
   ],
   "source": [
    "S_chi5 = SelectKBest(chi2, k = 6)\n",
    "X_chi5 = S_chi5.fit_transform(df_dic, df_dic['target'])\n",
    "\n",
    "variables = list(np.asarray(list(df_dic))[S_chi5.get_support()])\n",
    "variables.sort()\n",
    "print(variables)"
   ]
  },
  {
   "cell_type": "markdown",
   "metadata": {},
   "source": [
    "**Colinealidad entre variables**"
   ]
  },
  {
   "cell_type": "markdown",
   "metadata": {},
   "source": [
    "Comprobamos la correlación que hay entre variables, para evitar la colinealidad en el modelo."
   ]
  },
  {
   "cell_type": "code",
   "execution_count": 71,
   "metadata": {},
   "outputs": [
    {
     "data": {
      "text/plain": [
       "ADSL           FIBRA           -1.000000\n",
       "               conexion        -1.000000\n",
       "FIBRA          ADSL            -1.000000\n",
       "conexion       ADSL            -1.000000\n",
       "tv_futbol      TV              -0.898956\n",
       "TV             tv_futbol       -0.898956\n",
       "tv_futbol      tv_familiar     -0.751923\n",
       "tv_familiar    tv_futbol       -0.751923\n",
       "age_joven      edad            -0.727596\n",
       "edad           age_joven       -0.727596\n",
       "age_new        edad            -0.727596\n",
       "edad           age_new         -0.727596\n",
       "vel_conexion   ADSL            -0.627503\n",
       "ADSL           vel_conexion    -0.627503\n",
       "vel_conex_new  ADSL            -0.596777\n",
       "ADSL           vel_conex_new   -0.596777\n",
       "vel_conex_new  conexion         0.596777\n",
       "FIBRA          vel_conex_new    0.596777\n",
       "vel_conex_new  FIBRA            0.596777\n",
       "conexion       vel_conex_new    0.596777\n",
       "vel_conexion   FIBRA            0.627503\n",
       "conexion       vel_conexion     0.627503\n",
       "vel_conexion   conexion         0.627503\n",
       "FIBRA          vel_conexion     0.627503\n",
       "TV             tv_total         0.771444\n",
       "tv_total       TV               0.771444\n",
       "num_lineas     num_lin_new      0.899729\n",
       "num_lin_new    num_lineas       0.899729\n",
       "imp_financ     financiacion     0.903954\n",
       "financiacion   imp_financ       0.903954\n",
       "lin_impag      num_dt           0.908904\n",
       "num_dt         lin_impag        0.908904\n",
       "vel_conexion   vel_conex_new    0.973839\n",
       "vel_conex_new  vel_conexion     0.973839\n",
       "FIBRA          conexion         1.000000\n",
       "dtype: float64"
      ]
     },
     "execution_count": 71,
     "metadata": {},
     "output_type": "execute_result"
    }
   ],
   "source": [
    "correlation_mat = df_dic.corr()\n",
    "corr_pairs = correlation_mat.unstack()\n",
    "sorted_pairs = corr_pairs.sort_values(kind=\"quicksort\")\n",
    "strong_pairs = sorted_pairs[abs(sorted_pairs) > 0.5]\n",
    "strong_pairs.head(35)"
   ]
  },
  {
   "cell_type": "markdown",
   "metadata": {},
   "source": [
    "**Modelo con variables seleccionadas y sin colinealidad**"
   ]
  },
  {
   "cell_type": "markdown",
   "metadata": {},
   "source": [
    "Tras hacer una serie de pruebas, he obtenido cual es el conjunto de variables que funcionan mejor juntas, tratando de eliminar variables colineales."
   ]
  },
  {
   "cell_type": "code",
   "execution_count": 72,
   "metadata": {},
   "outputs": [],
   "source": [
    "columnas1 = ['edad', 'incidencia', 'financiacion','descuentos', 'TV', 'lin_impag']\n",
    "df_dic3 = df_dic[columnas1]"
   ]
  },
  {
   "cell_type": "markdown",
   "metadata": {},
   "source": [
    "Hacemos de nuevo las particiones con el nuevo conjunto."
   ]
  },
  {
   "cell_type": "code",
   "execution_count": 73,
   "metadata": {},
   "outputs": [],
   "source": [
    "X_train, X_test, y_train, y_test = train_test_split(df_dic3,\n",
    "                                                    y,\n",
    "                                                    test_size=0.3,\n",
    "                                                    random_state=42,\n",
    "                                                    stratify = y)"
   ]
  },
  {
   "cell_type": "markdown",
   "metadata": {},
   "source": [
    "Y aplicamos de nuevo el modelo que mejor está funcionando con nuestros datos."
   ]
  },
  {
   "cell_type": "code",
   "execution_count": 74,
   "metadata": {},
   "outputs": [
    {
     "name": "stderr",
     "output_type": "stream",
     "text": [
      "C:\\Users\\nerea\\anaconda3\\lib\\site-packages\\xgboost\\sklearn.py:888: UserWarning: The use of label encoder in XGBClassifier is deprecated and will be removed in a future release. To remove this warning, do the following: 1) Pass option use_label_encoder=False when constructing XGBClassifier object; and 2) Encode your labels (y) as integers starting with 0, i.e. 0, 1, 2, ..., [num_class - 1].\n",
      "  warnings.warn(label_encoder_deprecation_msg, UserWarning)\n"
     ]
    },
    {
     "name": "stdout",
     "output_type": "stream",
     "text": [
      "[10:38:06] WARNING: C:/Users/Administrator/workspace/xgboost-win64_release_1.3.0/src/learner.cc:1061: Starting in XGBoost 1.3.0, the default evaluation metric used with the objective 'binary:logistic' was changed from 'error' to 'logloss'. Explicitly set eval_metric if you'd like to restore the old behavior.\n",
      "matriz de confusión\n",
      "[[26406   109]\n",
      " [  984  1142]]\n",
      "accuracy\n",
      "0.9618379246534688\n",
      "precision\n",
      "0.9128697042366107\n",
      "sensibilidad\n",
      "0.5371589840075258\n",
      "especificidad\n",
      "0.9958891193663963\n",
      "f1\n",
      "0.6763399466982529\n",
      "AUC\n",
      "0.766524051686961\n"
     ]
    },
    {
     "data": {
      "image/png": "[encoded data removed]",
      "text/plain": [
       "<Figure size 432x288 with 1 Axes>"
      ]
     },
     "metadata": {
      "needs_background": "light"
     },
     "output_type": "display_data"
    }
   ],
   "source": [
    "classifier2 = XGBClassifier(n_estimators = 1000).fit(X_train, y_train)\n",
    "y_pred2    = classifier2.predict(X_test)\n",
    "saca_metricas(y_test, y_pred2)"
   ]
  },
  {
   "cell_type": "markdown",
   "metadata": {},
   "source": [
    "**GridSearch con el modelo ganador**"
   ]
  },
  {
   "cell_type": "markdown",
   "metadata": {},
   "source": [
    "El modelo ganador utiliza el metodo XGB y girdsearch lo vamos a aplicar a Random Forest porque mi ordenador tarda demasiado en ejecutar gridsearch con XGB. He decidido probarlo con RF porque era el segundo modelo que mejores resultados obtenía."
   ]
  },
  {
   "cell_type": "code",
   "execution_count": 75,
   "metadata": {},
   "outputs": [],
   "source": [
    "classifier3 =RandomForestClassifier(max_depth = 8).fit(X_train, y_train)"
   ]
  },
  {
   "cell_type": "code",
   "execution_count": 76,
   "metadata": {},
   "outputs": [],
   "source": [
    "grid_param = {\n",
    "    'n_estimators': [10, 20, 30, 80, 90],\n",
    "    'criterion': ['gini', 'entropy'],\n",
    "    'bootstrap': [True, False],\n",
    "    'max_depth': [5,8,10,12]\n",
    "}"
   ]
  },
  {
   "cell_type": "code",
   "execution_count": 77,
   "metadata": {},
   "outputs": [],
   "source": [
    "model_grid = GridSearchCV(estimator=classifier3,\n",
    "                     param_grid=grid_param,\n",
    "                     scoring='recall',\n",
    "                     cv=5,\n",
    "                     n_jobs=-1)"
   ]
  },
  {
   "cell_type": "code",
   "execution_count": 78,
   "metadata": {},
   "outputs": [
    {
     "data": {
      "text/plain": [
       "GridSearchCV(cv=5, estimator=RandomForestClassifier(max_depth=8), n_jobs=-1,\n",
       "             param_grid={'bootstrap': [True, False],\n",
       "                         'criterion': ['gini', 'entropy'],\n",
       "                         'max_depth': [5, 8, 10, 12],\n",
       "                         'n_estimators': [10, 20, 30, 80, 90]},\n",
       "             scoring='recall')"
      ]
     },
     "execution_count": 78,
     "metadata": {},
     "output_type": "execute_result"
    }
   ],
   "source": [
    "model_grid.fit(X_train, y_train)"
   ]
  },
  {
   "cell_type": "code",
   "execution_count": 79,
   "metadata": {},
   "outputs": [
    {
     "name": "stdout",
     "output_type": "stream",
     "text": [
      "{'bootstrap': True, 'criterion': 'gini', 'max_depth': 5, 'n_estimators': 20}\n"
     ]
    }
   ],
   "source": [
    "print(model_grid.best_params_)"
   ]
  },
  {
   "cell_type": "code",
   "execution_count": 80,
   "metadata": {},
   "outputs": [
    {
     "name": "stdout",
     "output_type": "stream",
     "text": [
      "0.5269192897366622\n"
     ]
    }
   ],
   "source": [
    "print(model_grid.best_score_)"
   ]
  },
  {
   "cell_type": "markdown",
   "metadata": {},
   "source": [
    "Aplicamos los resultados obtenidos con GridSearch:"
   ]
  },
  {
   "cell_type": "code",
   "execution_count": 81,
   "metadata": {},
   "outputs": [
    {
     "name": "stdout",
     "output_type": "stream",
     "text": [
      "matriz de confusión\n",
      "[[26402   113]\n",
      " [  982  1144]]\n",
      "accuracy\n",
      "0.9617680946894313\n",
      "precision\n",
      "0.9101034208432777\n",
      "sensibilidad\n",
      "0.5380997177798683\n",
      "especificidad\n",
      "0.9957382613614935\n",
      "f1\n",
      "0.6763227904227017\n",
      "AUC\n",
      "0.7669189895706809\n"
     ]
    },
    {
     "data": {
      "image/png": "[encoded data removed]",
      "text/plain": [
       "<Figure size 432x288 with 1 Axes>"
      ]
     },
     "metadata": {
      "needs_background": "light"
     },
     "output_type": "display_data"
    }
   ],
   "source": [
    "classifier4 = RandomForestClassifier(bootstrap= True, criterion= 'gini', max_depth= 5, n_estimators= 20).fit(X_train, y_train)\n",
    "y_pred4   = classifier4.predict(X_test)\n",
    "saca_metricas(y_test, y_pred4)"
   ]
  },
  {
   "cell_type": "code",
   "execution_count": 82,
   "metadata": {
    "scrolled": true
   },
   "outputs": [
    {
     "name": "stdout",
     "output_type": "stream",
     "text": [
      "              precision    recall  f1-score   support\n",
      "\n",
      "           0       0.97      0.99      0.98     26515\n",
      "           1       0.84      0.60      0.70      2126\n",
      "\n",
      "    accuracy                           0.96     28641\n",
      "   macro avg       0.91      0.80      0.84     28641\n",
      "weighted avg       0.96      0.96      0.96     28641\n",
      "\n"
     ]
    }
   ],
   "source": [
    "print(classification_report(y_test, y_pred1))"
   ]
  },
  {
   "cell_type": "markdown",
   "metadata": {},
   "source": [
    "**Balanceo de datos**"
   ]
  },
  {
   "cell_type": "markdown",
   "metadata": {},
   "source": [
    "Vamos a aplicar a los modelos anteriores el parámetro de class_weight para balancear los datos."
   ]
  },
  {
   "cell_type": "code",
   "execution_count": 83,
   "metadata": {
    "scrolled": true
   },
   "outputs": [
    {
     "data": {
      "text/plain": [
       "0    88382\n",
       "1     7085\n",
       "Name: id, dtype: int64"
      ]
     },
     "execution_count": 83,
     "metadata": {},
     "output_type": "execute_result"
    }
   ],
   "source": [
    "churn.value_counts()"
   ]
  },
  {
   "cell_type": "markdown",
   "metadata": {},
   "source": [
    "A continuación, vamos a aplicar los resultados obtenidos con GridSearch incluyendo el parámetro para balancear nuestros datos."
   ]
  },
  {
   "cell_type": "code",
   "execution_count": 84,
   "metadata": {},
   "outputs": [
    {
     "name": "stdout",
     "output_type": "stream",
     "text": [
      "matriz de confusión\n",
      "[[23151  3364]\n",
      " [  162  1964]]\n",
      "accuracy\n",
      "0.8768897734017667\n",
      "precision\n",
      "0.3686186186186186\n",
      "sensibilidad\n",
      "0.9238005644402634\n",
      "especificidad\n",
      "0.8731284178766736\n",
      "f1\n",
      "0.5269653877112959\n",
      "AUC\n",
      "0.8984644911584685\n"
     ]
    },
    {
     "data": {
      "image/png": "[encoded data removed]",
      "text/plain": [
       "<Figure size 432x288 with 1 Axes>"
      ]
     },
     "metadata": {
      "needs_background": "light"
     },
     "output_type": "display_data"
    }
   ],
   "source": [
    "classifier5 =  RandomForestClassifier(bootstrap= True, criterion= 'gini', max_depth= 5, n_estimators= 20, class_weight=\"balanced\").fit(X_train, y_train)\n",
    "y_pred5    = classifier5.predict(X_test)\n",
    "saca_metricas(y_test, y_pred5)"
   ]
  },
  {
   "cell_type": "code",
   "execution_count": 85,
   "metadata": {},
   "outputs": [
    {
     "name": "stdout",
     "output_type": "stream",
     "text": [
      "              precision    recall  f1-score   support\n",
      "\n",
      "           0       0.99      0.87      0.93     26515\n",
      "           1       0.37      0.92      0.53      2126\n",
      "\n",
      "    accuracy                           0.88     28641\n",
      "   macro avg       0.68      0.90      0.73     28641\n",
      "weighted avg       0.95      0.88      0.90     28641\n",
      "\n"
     ]
    }
   ],
   "source": [
    "print(classification_report(y_test, y_pred5))"
   ]
  },
  {
   "cell_type": "markdown",
   "metadata": {},
   "source": [
    "Comprobamos que no haya sobreajuste en los datos:"
   ]
  },
  {
   "cell_type": "code",
   "execution_count": 86,
   "metadata": {},
   "outputs": [],
   "source": [
    "results = cross_val_score(estimator=classifier5, X=X_train, y=y_train, cv=5)"
   ]
  },
  {
   "cell_type": "code",
   "execution_count": 87,
   "metadata": {},
   "outputs": [
    {
     "data": {
      "text/plain": [
       "array([0.80427952, 0.87946128, 0.82065095, 0.87878788, 0.81092406])"
      ]
     },
     "execution_count": 87,
     "metadata": {},
     "output_type": "execute_result"
    }
   ],
   "source": [
    "results"
   ]
  },
  {
   "cell_type": "code",
   "execution_count": 88,
   "metadata": {},
   "outputs": [
    {
     "name": "stdout",
     "output_type": "stream",
     "text": [
      "0.838820736557947\n"
     ]
    }
   ],
   "source": [
    "print(results.mean())"
   ]
  },
  {
   "cell_type": "code",
   "execution_count": 89,
   "metadata": {},
   "outputs": [
    {
     "name": "stdout",
     "output_type": "stream",
     "text": [
      "0.0333181271364617\n"
     ]
    }
   ],
   "source": [
    "print(results.std())"
   ]
  },
  {
   "cell_type": "code",
   "execution_count": 90,
   "metadata": {},
   "outputs": [
    {
     "name": "stdout",
     "output_type": "stream",
     "text": [
      "[10:39:43] WARNING: C:/Users/Administrator/workspace/xgboost-win64_release_1.3.0/src/learner.cc:541: \n",
      "Parameters: { class_weight } might not be used.\n",
      "\n",
      "  This may not be accurate due to some parameters are only used in language bindings but\n",
      "  passed down to XGBoost core.  Or some parameters are not used but slip through this\n",
      "  verification. Please open an issue if you find above cases.\n",
      "\n",
      "\n",
      "[10:39:43] WARNING: C:/Users/Administrator/workspace/xgboost-win64_release_1.3.0/src/learner.cc:1061: Starting in XGBoost 1.3.0, the default evaluation metric used with the objective 'binary:logistic' was changed from 'error' to 'logloss'. Explicitly set eval_metric if you'd like to restore the old behavior.\n"
     ]
    },
    {
     "name": "stderr",
     "output_type": "stream",
     "text": [
      "C:\\Users\\nerea\\anaconda3\\lib\\site-packages\\xgboost\\sklearn.py:888: UserWarning: The use of label encoder in XGBClassifier is deprecated and will be removed in a future release. To remove this warning, do the following: 1) Pass option use_label_encoder=False when constructing XGBClassifier object; and 2) Encode your labels (y) as integers starting with 0, i.e. 0, 1, 2, ..., [num_class - 1].\n",
      "  warnings.warn(label_encoder_deprecation_msg, UserWarning)\n"
     ]
    },
    {
     "name": "stdout",
     "output_type": "stream",
     "text": [
      "matriz de confusión\n",
      "[[26406   109]\n",
      " [  984  1142]]\n",
      "accuracy\n",
      "0.9618379246534688\n",
      "precision\n",
      "0.9128697042366107\n",
      "sensibilidad\n",
      "0.5371589840075258\n",
      "especificidad\n",
      "0.9958891193663963\n",
      "f1\n",
      "0.6763399466982529\n",
      "AUC\n",
      "0.766524051686961\n"
     ]
    },
    {
     "data": {
      "image/png": "[encoded data removed]",
      "text/plain": [
       "<Figure size 432x288 with 1 Axes>"
      ]
     },
     "metadata": {
      "needs_background": "light"
     },
     "output_type": "display_data"
    }
   ],
   "source": [
    "classifier6 = XGBClassifier(n_estimators = 1000,  class_weight=\"balanced\").fit(X_train, y_train)\n",
    "y_pred6    = classifier6.predict(X_test)\n",
    "saca_metricas(y_test, y_pred6)"
   ]
  },
  {
   "cell_type": "code",
   "execution_count": 91,
   "metadata": {},
   "outputs": [
    {
     "name": "stdout",
     "output_type": "stream",
     "text": [
      "              precision    recall  f1-score   support\n",
      "\n",
      "           0       0.96      1.00      0.98     26515\n",
      "           1       0.91      0.54      0.68      2126\n",
      "\n",
      "    accuracy                           0.96     28641\n",
      "   macro avg       0.94      0.77      0.83     28641\n",
      "weighted avg       0.96      0.96      0.96     28641\n",
      "\n"
     ]
    }
   ],
   "source": [
    "print(classification_report(y_test, y_pred6))"
   ]
  },
  {
   "cell_type": "markdown",
   "metadata": {},
   "source": [
    "Después de comparar los resultados obtenidos con los diferentes modelos, voy a elegir como modelo ganador al 'classifier5'. Este modelo utiliza el algoritmo de Random Forest con los hiperparámetros obtenidos con GridSearch además de utilizar el parámetro class_weight para balancear ambas clases. He decidido elegir este modelo porque a pesar de no ser el que mejor accuracy y precision tiene, es el que tiene mejor sensibilidad y especifidad y por esto, mejor curva ROC, lo que quiere decir que clasifica un 0.99 de unos y un 0.78 de ceros bien. "
   ]
  },
  {
   "cell_type": "code",
   "execution_count": 92,
   "metadata": {},
   "outputs": [],
   "source": [
    "best_model = classifier5.fit(X_train, y_train)"
   ]
  },
  {
   "cell_type": "code",
   "execution_count": 93,
   "metadata": {},
   "outputs": [
    {
     "data": {
      "text/plain": [
       "RandomForestClassifier(class_weight='balanced', max_depth=5, n_estimators=20)"
      ]
     },
     "execution_count": 93,
     "metadata": {},
     "output_type": "execute_result"
    }
   ],
   "source": [
    "best_model"
   ]
  },
  {
   "cell_type": "code",
   "execution_count": 94,
   "metadata": {},
   "outputs": [],
   "source": [
    "classifier7 = RandomForestClassifier(bootstrap=True, class_weight='balanced',\n",
    "                       criterion='gini', max_depth=5, n_estimators=20).fit(X_train, y_train)\n",
    "y_pred7    = classifier7.predict(X_test)"
   ]
  },
  {
   "cell_type": "code",
   "execution_count": 95,
   "metadata": {},
   "outputs": [
    {
     "name": "stdout",
     "output_type": "stream",
     "text": [
      "matriz de confusión\n",
      "[[20908  5607]\n",
      " [    8  2118]]\n",
      "accuracy\n",
      "0.8039523759645264\n",
      "precision\n",
      "0.2741747572815534\n",
      "sensibilidad\n",
      "0.9962370649106302\n",
      "especificidad\n",
      "0.7885347916273807\n",
      "f1\n",
      "0.4300071058775759\n",
      "AUC\n",
      "0.8923859282690055\n"
     ]
    },
    {
     "data": {
      "image/png": "[encoded data removed]",
      "text/plain": [
       "<Figure size 432x288 with 1 Axes>"
      ]
     },
     "metadata": {
      "needs_background": "light"
     },
     "output_type": "display_data"
    }
   ],
   "source": [
    "saca_metricas(y_test, y_pred7)"
   ]
  },
  {
   "cell_type": "markdown",
   "metadata": {},
   "source": [
    "## 6. Predicción"
   ]
  },
  {
   "cell_type": "markdown",
   "metadata": {},
   "source": [
    "En primer lugar voy a aplicar todos los cambios que he hecho en df_dic a df_ene y a introducir las nuevas variables que he creado."
   ]
  },
  {
   "cell_type": "code",
   "execution_count": 96,
   "metadata": {},
   "outputs": [
    {
     "data": {
      "text/plain": [
       "edad                  0\n",
       "facturacion           0\n",
       "antiguedad            0\n",
       "provincia             0\n",
       "num_lineas            0\n",
       "num_dt            90097\n",
       "incidencia        90720\n",
       "num_llamad_ent        0\n",
       "num_llamad_sal        0\n",
       "mb_datos              0\n",
       "seg_llamad_ent        0\n",
       "seg_llamad_sal        0\n",
       "financiacion      86045\n",
       "imp_financ        86045\n",
       "descuentos        72673\n",
       "conexion              2\n",
       "vel_conexion          3\n",
       "TV                    0\n",
       "dtype: int64"
      ]
     },
     "execution_count": 96,
     "metadata": {},
     "output_type": "execute_result"
    }
   ],
   "source": [
    "df_ene.isnull().sum()"
   ]
  },
  {
   "cell_type": "code",
   "execution_count": 97,
   "metadata": {},
   "outputs": [
    {
     "name": "stdout",
     "output_type": "stream",
     "text": [
      "edad\n",
      "37    1461\n",
      "60    1431\n",
      "72    1426\n",
      "53    1418\n",
      "20    1414\n",
      "      ... \n",
      "48    1312\n",
      "33    1312\n",
      "35    1311\n",
      "19    1302\n",
      "84    1289\n",
      "Name: edad, Length: 68, dtype: int64\n",
      "facturacion\n",
      "186.768467    1\n",
      "248.160805    1\n",
      "303.178406    1\n",
      "92.482626     1\n",
      "206.218005    1\n",
      "             ..\n",
      "97.716453     1\n",
      "296.988387    1\n",
      "39.591663     1\n",
      "302.530947    1\n",
      "357.251060    1\n",
      "Name: facturacion, Length: 92711, dtype: int64\n",
      "antiguedad\n",
      "01/07/2020 10:37 PM    3\n",
      "01/25/2020 12:51 PM    3\n",
      "01/14/2020 05:08 PM    3\n",
      "01/07/2020 03:55 PM    3\n",
      "01/19/2020 04:57 PM    3\n",
      "                      ..\n",
      "03/08/2006 12:19 PM    1\n",
      "05/31/2013 06:05 PM    1\n",
      "06/22/2003 10:15 AM    1\n",
      "10/23/1997 01:13 AM    1\n",
      "04/24/2012 07:29 AM    1\n",
      "Name: antiguedad, Length: 92237, dtype: int64\n",
      "provincia\n",
      "Valencia                  1941\n",
      "Asturias                  1934\n",
      "Murcia                    1931\n",
      "Navarra                   1930\n",
      "Zaragoza                  1927\n",
      "Málaga                    1924\n",
      "Alicante                  1895\n",
      "Orense                    1891\n",
      "Guipúzcoa                 1886\n",
      "Zamora                    1879\n",
      "Huelva                    1878\n",
      "Córdoba                   1875\n",
      "Granada                   1874\n",
      "Cáceres                   1868\n",
      "La Coruña                 1867\n",
      "Santa Cruz de Tenerife    1866\n",
      "Burgos                    1866\n",
      "Soria                     1865\n",
      "Sevilla                   1865\n",
      "Islas Baleares            1864\n",
      "Almería                   1863\n",
      "Cádiz                     1862\n",
      "Álava                     1859\n",
      "Tarragona                 1857\n",
      "Badajoz                   1856\n",
      "Castellón                 1854\n",
      "Salamanca                 1854\n",
      "Barcelona                 1852\n",
      "Valladolid                1850\n",
      "Segovia                   1850\n",
      "Madrid                    1849\n",
      "Ciudad Real               1848\n",
      "Lugo                      1841\n",
      "Albacete                  1836\n",
      "Jaén                      1836\n",
      "Ávila                     1832\n",
      "Pontevedra                1829\n",
      "Teruel                    1826\n",
      "Cuenca                    1824\n",
      "Guadalajara               1822\n",
      "Lérida                    1820\n",
      "La Rioja                  1816\n",
      "Gerona                    1816\n",
      "Cantabria                 1807\n",
      "Las Palmas                1798\n",
      "Palencia                  1797\n",
      "Toledo                    1793\n",
      "León                      1784\n",
      "Vizcaya                   1781\n",
      "Huesca                    1773\n",
      "Name: provincia, dtype: int64\n",
      "num_lineas\n",
      "3    29071\n",
      "4    25927\n",
      "5    22161\n",
      "2    12793\n",
      "1     2759\n",
      "Name: num_lineas, dtype: int64\n",
      "num_dt\n",
      "4.0    685\n",
      "3.0    652\n",
      "2.0    639\n",
      "1.0    638\n",
      "Name: num_dt, dtype: int64\n",
      "incidencia\n",
      "SI    1991\n",
      "Name: incidencia, dtype: int64\n",
      "num_llamad_ent\n",
      "188    443\n",
      "243    420\n",
      "158    416\n",
      "226    409\n",
      "62     407\n",
      "      ... \n",
      "55     331\n",
      "186    328\n",
      "2      323\n",
      "83     323\n",
      "149    322\n",
      "Name: num_llamad_ent, Length: 251, dtype: int64\n",
      "num_llamad_sal\n",
      "100    998\n",
      "25     980\n",
      "37     971\n",
      "38     970\n",
      "14     970\n",
      "      ... \n",
      "56     866\n",
      "47     863\n",
      "49     859\n",
      "57     858\n",
      "82     851\n",
      "Name: num_llamad_sal, Length: 101, dtype: int64\n",
      "mb_datos\n",
      "10063    12\n",
      "13465    12\n",
      "22543    12\n",
      "6257     12\n",
      "18137    12\n",
      "         ..\n",
      "22335     1\n",
      "16242     1\n",
      "8167      1\n",
      "5779      1\n",
      "3870      1\n",
      "Name: mb_datos, Length: 24393, dtype: int64\n",
      "seg_llamad_ent\n",
      "1863     16\n",
      "2676     16\n",
      "1883     14\n",
      "3979     14\n",
      "14137    14\n",
      "         ..\n",
      "14275     1\n",
      "12094     1\n",
      "9295      1\n",
      "992       1\n",
      "17679     1\n",
      "Name: seg_llamad_ent, Length: 19815, dtype: int64\n",
      "seg_llamad_sal\n",
      "19562    15\n",
      "8315     15\n",
      "14760    14\n",
      "75       14\n",
      "9090     13\n",
      "         ..\n",
      "12770     1\n",
      "18261     1\n",
      "3529      1\n",
      "16282     1\n",
      "14191     1\n",
      "Name: seg_llamad_sal, Length: 19798, dtype: int64\n",
      "financiacion\n",
      "SI    6666\n",
      "Name: financiacion, dtype: int64\n",
      "imp_financ\n",
      "39.243454    1\n",
      "17.287632    1\n",
      "13.844082    1\n",
      "32.902067    1\n",
      "37.717607    1\n",
      "            ..\n",
      "30.239136    1\n",
      "28.706766    1\n",
      "13.009050    1\n",
      "7.670001     1\n",
      "28.768734    1\n",
      "Name: imp_financ, Length: 6666, dtype: int64\n",
      "descuentos\n",
      "SI    20038\n",
      "Name: descuentos, dtype: int64\n",
      "conexion\n",
      "ADSL     46590\n",
      "FIBRA    46119\n",
      "Name: conexion, dtype: int64\n",
      "vel_conexion\n",
      "200MB    9342\n",
      "600MB    9299\n",
      "300MB    9212\n",
      "50MB     9167\n",
      "100MB    9099\n",
      "20MB     7882\n",
      "25MB     7840\n",
      "10MB     7807\n",
      "30MB     7761\n",
      "35MB     7672\n",
      "15MB     7627\n",
      "Name: vel_conexion, dtype: int64\n",
      "TV\n",
      "tv-futbol      46191\n",
      "tv-familiar    32822\n",
      "tv-total       13698\n",
      "Name: TV, dtype: int64\n"
     ]
    }
   ],
   "source": [
    "for i in df_ene.columns:\n",
    "    print(i)\n",
    "    print(df_ene[i].value_counts())"
   ]
  },
  {
   "cell_type": "code",
   "execution_count": 98,
   "metadata": {},
   "outputs": [],
   "source": [
    "df_ene['num_dt'] = df_ene['num_dt'].fillna(0)\n",
    "\n",
    "df_ene['incidencia']=df_ene['incidencia'].fillna('NO')\n",
    "df_ene['incidencia']=df_ene['incidencia'].apply(lambda x: 0 if x=='NO' else 1)\n",
    "\n",
    "df_ene['financiacion']=df_ene['financiacion'].fillna('NO')\n",
    "df_ene['financiacion']=df_ene['financiacion'].apply(lambda x: 0 if x=='NO' else 1)\n",
    "\n",
    "df_ene['imp_financ']=df_ene['imp_financ'].fillna('0')\n",
    "df_ene['imp_financ']=df_ene['imp_financ'].astype(float)\n",
    "\n",
    "df_ene['descuentos']=df_ene['descuentos'].fillna('NO')\n",
    "df_ene['descuentos']=df_ene['descuentos'].apply(lambda x: 0 if x=='NO' else 1)\n",
    "\n",
    "df_ene['vel_conexion']=df_ene['vel_conexion'].fillna(df_ene['vel_conexion'].mode()[0])\n",
    "df_ene['vel_conexion']= df_ene['vel_conexion'].str.replace(\"MB\",\"\")\n",
    "df_ene['vel_conexion'] = pd.to_numeric(df_ene['vel_conexion'],errors='coerce')\n",
    "\n",
    "df_ene['conexion']=df_ene['conexion'].fillna(df_ene['conexion'].mode()[0])"
   ]
  },
  {
   "cell_type": "code",
   "execution_count": 99,
   "metadata": {},
   "outputs": [
    {
     "data": {
      "text/plain": [
       "edad              0\n",
       "facturacion       0\n",
       "antiguedad        0\n",
       "provincia         0\n",
       "num_lineas        0\n",
       "num_dt            0\n",
       "incidencia        0\n",
       "num_llamad_ent    0\n",
       "num_llamad_sal    0\n",
       "mb_datos          0\n",
       "seg_llamad_ent    0\n",
       "seg_llamad_sal    0\n",
       "financiacion      0\n",
       "imp_financ        0\n",
       "descuentos        0\n",
       "conexion          0\n",
       "vel_conexion      0\n",
       "TV                0\n",
       "dtype: int64"
      ]
     },
     "execution_count": 99,
     "metadata": {},
     "output_type": "execute_result"
    }
   ],
   "source": [
    "df_ene.isnull().sum()"
   ]
  },
  {
   "cell_type": "code",
   "execution_count": 100,
   "metadata": {},
   "outputs": [
    {
     "data": {
      "text/plain": [
       "edad                int64\n",
       "facturacion       float64\n",
       "antiguedad         object\n",
       "provincia          object\n",
       "num_lineas          int64\n",
       "num_dt            float64\n",
       "incidencia          int64\n",
       "num_llamad_ent      int64\n",
       "num_llamad_sal      int64\n",
       "mb_datos            int64\n",
       "seg_llamad_ent      int64\n",
       "seg_llamad_sal      int64\n",
       "financiacion        int64\n",
       "imp_financ        float64\n",
       "descuentos          int64\n",
       "conexion           object\n",
       "vel_conexion        int64\n",
       "TV                 object\n",
       "dtype: object"
      ]
     },
     "execution_count": 100,
     "metadata": {},
     "output_type": "execute_result"
    }
   ],
   "source": [
    "df_ene.dtypes"
   ]
  },
  {
   "cell_type": "code",
   "execution_count": 101,
   "metadata": {},
   "outputs": [],
   "source": [
    "df_ene.TV.replace(('tv-futbol', 'tv-familiar', 'tv-total'),\n",
    "                      (1,2,3),inplace=True)\n",
    "\n",
    "df_ene.conexion.replace(('ADSL', 'FIBRA'), (1,2), inplace=True)\n",
    "\n",
    "df_ene['antiguedad']=pd.to_datetime(df_ene['antiguedad'])\n",
    "fecha = \"2020-02-01\"\n",
    "ahora = datetime.strptime(fecha, '%Y-%m-%d')\n",
    "df_ene['antig']=ahora - df_ene['antiguedad']\n",
    "df_ene['antig']=df_ene['antig'].dt.days\n",
    "\n",
    "provincias = list(df_ene.provincia.unique())\n",
    "transform = LabelEncoder()\n",
    "transform.fit_transform(provincias)\n",
    "prov = transform.transform(df_ene['provincia'])\n",
    "df_ene['provincia']= prov"
   ]
  },
  {
   "cell_type": "code",
   "execution_count": 102,
   "metadata": {},
   "outputs": [
    {
     "data": {
      "text/plain": [
       "edad                       int64\n",
       "facturacion              float64\n",
       "antiguedad        datetime64[ns]\n",
       "provincia                  int32\n",
       "num_lineas                 int64\n",
       "num_dt                   float64\n",
       "incidencia                 int64\n",
       "num_llamad_ent             int64\n",
       "num_llamad_sal             int64\n",
       "mb_datos                   int64\n",
       "seg_llamad_ent             int64\n",
       "seg_llamad_sal             int64\n",
       "financiacion               int64\n",
       "imp_financ               float64\n",
       "descuentos                 int64\n",
       "conexion                   int64\n",
       "vel_conexion               int64\n",
       "TV                         int64\n",
       "antig                      int64\n",
       "dtype: object"
      ]
     },
     "execution_count": 102,
     "metadata": {},
     "output_type": "execute_result"
    }
   ],
   "source": [
    "df_ene.dtypes"
   ]
  },
  {
   "cell_type": "code",
   "execution_count": 103,
   "metadata": {},
   "outputs": [],
   "source": [
    "df_ene['age_joven'] = df_ene['edad'].apply(lambda x: 1 if x<=32 else 0)\n",
    "df_ene['age_adulto'] = df_ene['edad'].apply(lambda x: 1 if x>32 & x<60 else 0)\n",
    "df_ene['age_new'] = df_ene['edad'].apply(lambda x: 1 if x<=32 else 0)\n",
    "\n",
    "df_ene['vel_conex_new'] = df_ene['vel_conexion'].apply(lambda x: 0 if x<200 else (2 if x>=400 else(1)))\n",
    "\n",
    "df_ene['num_lin_new'] = df_ene['num_lineas'].apply(lambda x: 0 if x<2 else (1 if x>=2 and x<4 else(2)))\n",
    "\n",
    "df_ene['lin_impag'] = df_ene['num_dt'].apply(lambda x: 0 if x==0 else (1))\n",
    "\n",
    "df_dic['tv_futbol'] = df_dic['TV'].apply(lambda x: 1 if x==1 else 0)\n",
    "df_dic['tv_familiar'] = df_dic['TV'].apply(lambda x: 1 if x==2 else 0)\n",
    "df_dic['tv_total'] = df_dic['TV'].apply(lambda x: 1 if x==3 else 0)\n",
    "\n",
    "df_dic['ADSL'] = df_dic['conexion'].apply(lambda x: 1 if x==1 else 0)\n",
    "df_dic['FIBRA'] = df_dic['conexion'].apply(lambda x: 1 if x==2 else 0)"
   ]
  },
  {
   "cell_type": "code",
   "execution_count": 104,
   "metadata": {},
   "outputs": [
    {
     "data": {
      "text/html": [
       "<div>\n",
       "<style scoped>\n",
       "    .dataframe tbody tr th:only-of-type {\n",
       "        vertical-align: middle;\n",
       "    }\n",
       "\n",
       "    .dataframe tbody tr th {\n",
       "        vertical-align: top;\n",
       "    }\n",
       "\n",
       "    .dataframe thead th {\n",
       "        text-align: right;\n",
       "    }\n",
       "</style>\n",
       "<table border=\"1\" class=\"dataframe\">\n",
       "  <thead>\n",
       "    <tr style=\"text-align: right;\">\n",
       "      <th></th>\n",
       "      <th>edad</th>\n",
       "      <th>incidencia</th>\n",
       "      <th>financiacion</th>\n",
       "      <th>descuentos</th>\n",
       "      <th>TV</th>\n",
       "      <th>lin_impag</th>\n",
       "    </tr>\n",
       "    <tr>\n",
       "      <th>id</th>\n",
       "      <th></th>\n",
       "      <th></th>\n",
       "      <th></th>\n",
       "      <th></th>\n",
       "      <th></th>\n",
       "      <th></th>\n",
       "    </tr>\n",
       "  </thead>\n",
       "  <tbody>\n",
       "    <tr>\n",
       "      <th>1</th>\n",
       "      <td>63</td>\n",
       "      <td>0</td>\n",
       "      <td>0</td>\n",
       "      <td>0</td>\n",
       "      <td>1</td>\n",
       "      <td>0</td>\n",
       "    </tr>\n",
       "    <tr>\n",
       "      <th>2</th>\n",
       "      <td>84</td>\n",
       "      <td>0</td>\n",
       "      <td>0</td>\n",
       "      <td>1</td>\n",
       "      <td>1</td>\n",
       "      <td>0</td>\n",
       "    </tr>\n",
       "    <tr>\n",
       "      <th>3</th>\n",
       "      <td>66</td>\n",
       "      <td>0</td>\n",
       "      <td>0</td>\n",
       "      <td>1</td>\n",
       "      <td>1</td>\n",
       "      <td>0</td>\n",
       "    </tr>\n",
       "    <tr>\n",
       "      <th>4</th>\n",
       "      <td>69</td>\n",
       "      <td>0</td>\n",
       "      <td>0</td>\n",
       "      <td>0</td>\n",
       "      <td>2</td>\n",
       "      <td>0</td>\n",
       "    </tr>\n",
       "    <tr>\n",
       "      <th>6</th>\n",
       "      <td>51</td>\n",
       "      <td>0</td>\n",
       "      <td>0</td>\n",
       "      <td>0</td>\n",
       "      <td>1</td>\n",
       "      <td>0</td>\n",
       "    </tr>\n",
       "    <tr>\n",
       "      <th>...</th>\n",
       "      <td>...</td>\n",
       "      <td>...</td>\n",
       "      <td>...</td>\n",
       "      <td>...</td>\n",
       "      <td>...</td>\n",
       "      <td>...</td>\n",
       "    </tr>\n",
       "    <tr>\n",
       "      <th>99996</th>\n",
       "      <td>36</td>\n",
       "      <td>0</td>\n",
       "      <td>0</td>\n",
       "      <td>0</td>\n",
       "      <td>1</td>\n",
       "      <td>0</td>\n",
       "    </tr>\n",
       "    <tr>\n",
       "      <th>99997</th>\n",
       "      <td>68</td>\n",
       "      <td>0</td>\n",
       "      <td>1</td>\n",
       "      <td>0</td>\n",
       "      <td>1</td>\n",
       "      <td>0</td>\n",
       "    </tr>\n",
       "    <tr>\n",
       "      <th>99998</th>\n",
       "      <td>20</td>\n",
       "      <td>0</td>\n",
       "      <td>0</td>\n",
       "      <td>0</td>\n",
       "      <td>1</td>\n",
       "      <td>0</td>\n",
       "    </tr>\n",
       "    <tr>\n",
       "      <th>99999</th>\n",
       "      <td>53</td>\n",
       "      <td>0</td>\n",
       "      <td>0</td>\n",
       "      <td>0</td>\n",
       "      <td>1</td>\n",
       "      <td>0</td>\n",
       "    </tr>\n",
       "    <tr>\n",
       "      <th>100000</th>\n",
       "      <td>18</td>\n",
       "      <td>0</td>\n",
       "      <td>0</td>\n",
       "      <td>1</td>\n",
       "      <td>2</td>\n",
       "      <td>0</td>\n",
       "    </tr>\n",
       "  </tbody>\n",
       "</table>\n",
       "<p>92711 rows × 6 columns</p>\n",
       "</div>"
      ],
      "text/plain": [
       "        edad  incidencia  financiacion  descuentos  TV  lin_impag\n",
       "id                                                               \n",
       "1         63           0             0           0   1          0\n",
       "2         84           0             0           1   1          0\n",
       "3         66           0             0           1   1          0\n",
       "4         69           0             0           0   2          0\n",
       "6         51           0             0           0   1          0\n",
       "...      ...         ...           ...         ...  ..        ...\n",
       "99996     36           0             0           0   1          0\n",
       "99997     68           0             1           0   1          0\n",
       "99998     20           0             0           0   1          0\n",
       "99999     53           0             0           0   1          0\n",
       "100000    18           0             0           1   2          0\n",
       "\n",
       "[92711 rows x 6 columns]"
      ]
     },
     "execution_count": 104,
     "metadata": {},
     "output_type": "execute_result"
    }
   ],
   "source": [
    "df_ene2 =df_ene[columnas1]\n",
    "df_ene2"
   ]
  },
  {
   "cell_type": "markdown",
   "metadata": {},
   "source": [
    "**Aplicamos modelo ganador**"
   ]
  },
  {
   "cell_type": "code",
   "execution_count": 105,
   "metadata": {},
   "outputs": [],
   "source": [
    "modelo_proba = classifier7.predict_proba(df_ene2)[:,1]"
   ]
  },
  {
   "cell_type": "code",
   "execution_count": 106,
   "metadata": {},
   "outputs": [
    {
     "data": {
      "text/plain": [
       "array([0.00000000e+00, 4.50556869e-04, 4.50556869e-04, ...,\n",
       "       7.49462151e-01, 0.00000000e+00, 1.07670624e-01])"
      ]
     },
     "execution_count": 106,
     "metadata": {},
     "output_type": "execute_result"
    }
   ],
   "source": [
    "modelo_proba"
   ]
  },
  {
   "cell_type": "code",
   "execution_count": 107,
   "metadata": {},
   "outputs": [],
   "source": [
    "modelo_proba = (pd.DataFrame(modelo_proba,columns=['probabilidad'],index=df_ene.index))\n",
    "modelo_proba.sort_values(by=['probabilidad'],ascending=False,axis=0,inplace=True)"
   ]
  },
  {
   "cell_type": "code",
   "execution_count": 108,
   "metadata": {},
   "outputs": [],
   "source": [
    "df_ene2.reset_index(inplace=True)"
   ]
  },
  {
   "cell_type": "code",
   "execution_count": 109,
   "metadata": {},
   "outputs": [
    {
     "data": {
      "text/plain": [
       "(92711, 7)"
      ]
     },
     "execution_count": 109,
     "metadata": {},
     "output_type": "execute_result"
    }
   ],
   "source": [
    "df_ene2.shape"
   ]
  },
  {
   "cell_type": "code",
   "execution_count": 110,
   "metadata": {},
   "outputs": [
    {
     "data": {
      "text/html": [
       "<div>\n",
       "<style scoped>\n",
       "    .dataframe tbody tr th:only-of-type {\n",
       "        vertical-align: middle;\n",
       "    }\n",
       "\n",
       "    .dataframe tbody tr th {\n",
       "        vertical-align: top;\n",
       "    }\n",
       "\n",
       "    .dataframe thead th {\n",
       "        text-align: right;\n",
       "    }\n",
       "</style>\n",
       "<table border=\"1\" class=\"dataframe\">\n",
       "  <thead>\n",
       "    <tr style=\"text-align: right;\">\n",
       "      <th></th>\n",
       "      <th>id</th>\n",
       "      <th>edad</th>\n",
       "      <th>incidencia</th>\n",
       "      <th>financiacion</th>\n",
       "      <th>descuentos</th>\n",
       "      <th>TV</th>\n",
       "      <th>lin_impag</th>\n",
       "    </tr>\n",
       "  </thead>\n",
       "  <tbody>\n",
       "    <tr>\n",
       "      <th>0</th>\n",
       "      <td>1</td>\n",
       "      <td>63</td>\n",
       "      <td>0</td>\n",
       "      <td>0</td>\n",
       "      <td>0</td>\n",
       "      <td>1</td>\n",
       "      <td>0</td>\n",
       "    </tr>\n",
       "    <tr>\n",
       "      <th>1</th>\n",
       "      <td>2</td>\n",
       "      <td>84</td>\n",
       "      <td>0</td>\n",
       "      <td>0</td>\n",
       "      <td>1</td>\n",
       "      <td>1</td>\n",
       "      <td>0</td>\n",
       "    </tr>\n",
       "    <tr>\n",
       "      <th>2</th>\n",
       "      <td>3</td>\n",
       "      <td>66</td>\n",
       "      <td>0</td>\n",
       "      <td>0</td>\n",
       "      <td>1</td>\n",
       "      <td>1</td>\n",
       "      <td>0</td>\n",
       "    </tr>\n",
       "    <tr>\n",
       "      <th>3</th>\n",
       "      <td>4</td>\n",
       "      <td>69</td>\n",
       "      <td>0</td>\n",
       "      <td>0</td>\n",
       "      <td>0</td>\n",
       "      <td>2</td>\n",
       "      <td>0</td>\n",
       "    </tr>\n",
       "    <tr>\n",
       "      <th>4</th>\n",
       "      <td>6</td>\n",
       "      <td>51</td>\n",
       "      <td>0</td>\n",
       "      <td>0</td>\n",
       "      <td>0</td>\n",
       "      <td>1</td>\n",
       "      <td>0</td>\n",
       "    </tr>\n",
       "  </tbody>\n",
       "</table>\n",
       "</div>"
      ],
      "text/plain": [
       "   id  edad  incidencia  financiacion  descuentos  TV  lin_impag\n",
       "0   1    63           0             0           0   1          0\n",
       "1   2    84           0             0           1   1          0\n",
       "2   3    66           0             0           1   1          0\n",
       "3   4    69           0             0           0   2          0\n",
       "4   6    51           0             0           0   1          0"
      ]
     },
     "execution_count": 110,
     "metadata": {},
     "output_type": "execute_result"
    }
   ],
   "source": [
    "df_ene2.head()"
   ]
  },
  {
   "cell_type": "code",
   "execution_count": 111,
   "metadata": {},
   "outputs": [],
   "source": [
    "modelo_proba.reset_index(inplace=True)"
   ]
  },
  {
   "cell_type": "code",
   "execution_count": 112,
   "metadata": {},
   "outputs": [
    {
     "data": {
      "text/html": [
       "<div>\n",
       "<style scoped>\n",
       "    .dataframe tbody tr th:only-of-type {\n",
       "        vertical-align: middle;\n",
       "    }\n",
       "\n",
       "    .dataframe tbody tr th {\n",
       "        vertical-align: top;\n",
       "    }\n",
       "\n",
       "    .dataframe thead th {\n",
       "        text-align: right;\n",
       "    }\n",
       "</style>\n",
       "<table border=\"1\" class=\"dataframe\">\n",
       "  <thead>\n",
       "    <tr style=\"text-align: right;\">\n",
       "      <th></th>\n",
       "      <th>id</th>\n",
       "      <th>probabilidad</th>\n",
       "    </tr>\n",
       "  </thead>\n",
       "  <tbody>\n",
       "    <tr>\n",
       "      <th>0</th>\n",
       "      <td>57715</td>\n",
       "      <td>0.962749</td>\n",
       "    </tr>\n",
       "    <tr>\n",
       "      <th>1</th>\n",
       "      <td>7016</td>\n",
       "      <td>0.962749</td>\n",
       "    </tr>\n",
       "    <tr>\n",
       "      <th>2</th>\n",
       "      <td>6952</td>\n",
       "      <td>0.962749</td>\n",
       "    </tr>\n",
       "    <tr>\n",
       "      <th>3</th>\n",
       "      <td>46790</td>\n",
       "      <td>0.962453</td>\n",
       "    </tr>\n",
       "    <tr>\n",
       "      <th>4</th>\n",
       "      <td>67018</td>\n",
       "      <td>0.962453</td>\n",
       "    </tr>\n",
       "  </tbody>\n",
       "</table>\n",
       "</div>"
      ],
      "text/plain": [
       "      id  probabilidad\n",
       "0  57715      0.962749\n",
       "1   7016      0.962749\n",
       "2   6952      0.962749\n",
       "3  46790      0.962453\n",
       "4  67018      0.962453"
      ]
     },
     "execution_count": 112,
     "metadata": {},
     "output_type": "execute_result"
    }
   ],
   "source": [
    "modelo_proba.head()"
   ]
  },
  {
   "cell_type": "code",
   "execution_count": 113,
   "metadata": {},
   "outputs": [],
   "source": [
    "results = pd.merge(df_ene2, modelo_proba, on= ['id'])"
   ]
  },
  {
   "cell_type": "code",
   "execution_count": 114,
   "metadata": {},
   "outputs": [],
   "source": [
    "results2= results.sort_values(by='probabilidad', ascending= False)"
   ]
  },
  {
   "cell_type": "code",
   "execution_count": 118,
   "metadata": {},
   "outputs": [
    {
     "data": {
      "text/html": [
       "<div>\n",
       "<style scoped>\n",
       "    .dataframe tbody tr th:only-of-type {\n",
       "        vertical-align: middle;\n",
       "    }\n",
       "\n",
       "    .dataframe tbody tr th {\n",
       "        vertical-align: top;\n",
       "    }\n",
       "\n",
       "    .dataframe thead th {\n",
       "        text-align: right;\n",
       "    }\n",
       "</style>\n",
       "<table border=\"1\" class=\"dataframe\">\n",
       "  <thead>\n",
       "    <tr style=\"text-align: right;\">\n",
       "      <th></th>\n",
       "      <th>id</th>\n",
       "      <th>edad</th>\n",
       "      <th>incidencia</th>\n",
       "      <th>financiacion</th>\n",
       "      <th>descuentos</th>\n",
       "      <th>TV</th>\n",
       "      <th>lin_impag</th>\n",
       "      <th>probabilidad</th>\n",
       "    </tr>\n",
       "  </thead>\n",
       "  <tbody>\n",
       "    <tr>\n",
       "      <th>53493</th>\n",
       "      <td>57715</td>\n",
       "      <td>35</td>\n",
       "      <td>1</td>\n",
       "      <td>0</td>\n",
       "      <td>0</td>\n",
       "      <td>1</td>\n",
       "      <td>1</td>\n",
       "      <td>0.962749</td>\n",
       "    </tr>\n",
       "    <tr>\n",
       "      <th>6468</th>\n",
       "      <td>7016</td>\n",
       "      <td>36</td>\n",
       "      <td>1</td>\n",
       "      <td>0</td>\n",
       "      <td>0</td>\n",
       "      <td>1</td>\n",
       "      <td>1</td>\n",
       "      <td>0.962749</td>\n",
       "    </tr>\n",
       "    <tr>\n",
       "      <th>6405</th>\n",
       "      <td>6952</td>\n",
       "      <td>35</td>\n",
       "      <td>1</td>\n",
       "      <td>0</td>\n",
       "      <td>0</td>\n",
       "      <td>1</td>\n",
       "      <td>1</td>\n",
       "      <td>0.962749</td>\n",
       "    </tr>\n",
       "    <tr>\n",
       "      <th>43372</th>\n",
       "      <td>46790</td>\n",
       "      <td>26</td>\n",
       "      <td>1</td>\n",
       "      <td>0</td>\n",
       "      <td>0</td>\n",
       "      <td>1</td>\n",
       "      <td>1</td>\n",
       "      <td>0.962453</td>\n",
       "    </tr>\n",
       "    <tr>\n",
       "      <th>62101</th>\n",
       "      <td>67018</td>\n",
       "      <td>27</td>\n",
       "      <td>1</td>\n",
       "      <td>0</td>\n",
       "      <td>0</td>\n",
       "      <td>1</td>\n",
       "      <td>1</td>\n",
       "      <td>0.962453</td>\n",
       "    </tr>\n",
       "  </tbody>\n",
       "</table>\n",
       "</div>"
      ],
      "text/plain": [
       "          id  edad  incidencia  financiacion  descuentos  TV  lin_impag  \\\n",
       "53493  57715    35           1             0           0   1          1   \n",
       "6468    7016    36           1             0           0   1          1   \n",
       "6405    6952    35           1             0           0   1          1   \n",
       "43372  46790    26           1             0           0   1          1   \n",
       "62101  67018    27           1             0           0   1          1   \n",
       "\n",
       "       probabilidad  \n",
       "53493      0.962749  \n",
       "6468       0.962749  \n",
       "6405       0.962749  \n",
       "43372      0.962453  \n",
       "62101      0.962453  "
      ]
     },
     "execution_count": 118,
     "metadata": {},
     "output_type": "execute_result"
    }
   ],
   "source": [
    "results2.head(5)"
   ]
  },
  {
   "cell_type": "code",
   "execution_count": 119,
   "metadata": {},
   "outputs": [
    {
     "data": {
      "text/html": [
       "<div>\n",
       "<style scoped>\n",
       "    .dataframe tbody tr th:only-of-type {\n",
       "        vertical-align: middle;\n",
       "    }\n",
       "\n",
       "    .dataframe tbody tr th {\n",
       "        vertical-align: top;\n",
       "    }\n",
       "\n",
       "    .dataframe thead th {\n",
       "        text-align: right;\n",
       "    }\n",
       "</style>\n",
       "<table border=\"1\" class=\"dataframe\">\n",
       "  <thead>\n",
       "    <tr style=\"text-align: right;\">\n",
       "      <th></th>\n",
       "      <th>id</th>\n",
       "      <th>edad</th>\n",
       "      <th>incidencia</th>\n",
       "      <th>financiacion</th>\n",
       "      <th>descuentos</th>\n",
       "      <th>TV</th>\n",
       "      <th>lin_impag</th>\n",
       "      <th>probabilidad</th>\n",
       "    </tr>\n",
       "  </thead>\n",
       "  <tbody>\n",
       "    <tr>\n",
       "      <th>46127</th>\n",
       "      <td>49758</td>\n",
       "      <td>57</td>\n",
       "      <td>0</td>\n",
       "      <td>0</td>\n",
       "      <td>1</td>\n",
       "      <td>2</td>\n",
       "      <td>0</td>\n",
       "      <td>0.0</td>\n",
       "    </tr>\n",
       "    <tr>\n",
       "      <th>46130</th>\n",
       "      <td>49761</td>\n",
       "      <td>43</td>\n",
       "      <td>0</td>\n",
       "      <td>1</td>\n",
       "      <td>1</td>\n",
       "      <td>2</td>\n",
       "      <td>0</td>\n",
       "      <td>0.0</td>\n",
       "    </tr>\n",
       "    <tr>\n",
       "      <th>46134</th>\n",
       "      <td>49765</td>\n",
       "      <td>46</td>\n",
       "      <td>0</td>\n",
       "      <td>0</td>\n",
       "      <td>0</td>\n",
       "      <td>1</td>\n",
       "      <td>0</td>\n",
       "      <td>0.0</td>\n",
       "    </tr>\n",
       "    <tr>\n",
       "      <th>46135</th>\n",
       "      <td>49766</td>\n",
       "      <td>77</td>\n",
       "      <td>0</td>\n",
       "      <td>0</td>\n",
       "      <td>1</td>\n",
       "      <td>3</td>\n",
       "      <td>0</td>\n",
       "      <td>0.0</td>\n",
       "    </tr>\n",
       "    <tr>\n",
       "      <th>46355</th>\n",
       "      <td>49999</td>\n",
       "      <td>60</td>\n",
       "      <td>0</td>\n",
       "      <td>0</td>\n",
       "      <td>0</td>\n",
       "      <td>1</td>\n",
       "      <td>0</td>\n",
       "      <td>0.0</td>\n",
       "    </tr>\n",
       "  </tbody>\n",
       "</table>\n",
       "</div>"
      ],
      "text/plain": [
       "          id  edad  incidencia  financiacion  descuentos  TV  lin_impag  \\\n",
       "46127  49758    57           0             0           1   2          0   \n",
       "46130  49761    43           0             1           1   2          0   \n",
       "46134  49765    46           0             0           0   1          0   \n",
       "46135  49766    77           0             0           1   3          0   \n",
       "46355  49999    60           0             0           0   1          0   \n",
       "\n",
       "       probabilidad  \n",
       "46127           0.0  \n",
       "46130           0.0  \n",
       "46134           0.0  \n",
       "46135           0.0  \n",
       "46355           0.0  "
      ]
     },
     "execution_count": 119,
     "metadata": {},
     "output_type": "execute_result"
    }
   ],
   "source": [
    "results2.tail(5)"
   ]
  },
  {
   "cell_type": "code",
   "execution_count": 117,
   "metadata": {},
   "outputs": [],
   "source": [
    "results.to_csv('resultados.csv')"
   ]
  },
  {
   "cell_type": "markdown",
   "metadata": {},
   "source": [
    "## 7. Claves de la marcha de clientes"
   ]
  },
  {
   "cell_type": "markdown",
   "metadata": {},
   "source": [
    "El 96.18% de los clientes que tienen más de un 70% de probabilidad de fuga son los que cumplen las siguientes características:\n",
    "    - Tienen menos de 40 años.\n",
    "    - No tienen ninguna incidencia o reclamación.\n",
    "    - No tienen ningún tipo de financiación o descuento.\n",
    "    - Tienen contratado el paquete de tv-futbol.\n",
    "    - No tienen ninguna linea en impago.\n",
    "    \n",
    "Además tambien podemos comentar, que los clientes mayores de 40 años, tienen menos de un 19% de probabilidad de fuga, por lo que este segmento de clientes no necesita un incentivo para continuar en la compañía.\n",
    "\n",
    "Por tanto, la campaña que tendría que lanzar esta compañía es hacia clientes menores de 40 años (40 incluidos), que sean buenos clientes, que no esten financiados o con descuentos por parte de la empresa y que tengan contratado el paquete de fútbol.\n"
   ]
  }
 ],
 "metadata": {
  "kernelspec": {
   "display_name": "Python 3",
   "language": "python",
   "name": "python3"
  },
  "language_info": {
   "codemirror_mode": {
    "name": "ipython",
    "version": 3
   },
   "file_extension": ".py",
   "mimetype": "text/x-python",
   "name": "python",
   "nbconvert_exporter": "python",
   "pygments_lexer": "ipython3",
   "version": "3.8.3"
  }
 },
 "nbformat": 4,
 "nbformat_minor": 4
}
